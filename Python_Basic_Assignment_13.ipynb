{
 "cells": [
  {
   "cell_type": "markdown",
   "id": "825d81e6",
   "metadata": {},
   "source": [
    "# Python_Basic_Assignment_13"
   ]
  },
  {
   "cell_type": "code",
   "execution_count": null,
   "id": "5a463261",
   "metadata": {},
   "outputs": [],
   "source": [
    "1. What advantages do Excel spreadsheets have over CSV spreadsheets?\n",
    "Ans:Advantages of Excel:\n",
    "        1.Different call can have different data type\n",
    "        2.Cell can have varying width and height\n",
    "        3.cell can be merged\n",
    "        5.Images and chart can be inserted\n",
    "        6. different font,colour,size"
   ]
  },
  {
   "cell_type": "code",
   "execution_count": null,
   "id": "e1d14db4",
   "metadata": {},
   "outputs": [],
   "source": [
    "2.What do you pass to csv.reader() and csv.writer() to create reader and writer objects?\n",
    "Ans:We pass file name like: \n",
    "    reader = csv.reader(file)\n",
    "    writer = csv.writer(file)    \n",
    "    "
   ]
  },
  {
   "cell_type": "code",
   "execution_count": null,
   "id": "4d9d5b88",
   "metadata": {},
   "outputs": [],
   "source": [
    "3. What modes do File objects for reader and writer objects need to be opened in?\n",
    "Ans:File objects need to be opened in read-binary ('rb') for reader objects and write-binary ('wb') fro writer objects."
   ]
  },
  {
   "cell_type": "code",
   "execution_count": null,
   "id": "ec7bb39c",
   "metadata": {},
   "outputs": [],
   "source": [
    "4. What method takes a list argument and writes it to a CSV file?\n",
    "Ans:The writerrow() method.  "
   ]
  },
  {
   "cell_type": "code",
   "execution_count": 7,
   "id": "e5ced756",
   "metadata": {},
   "outputs": [],
   "source": [
    "import csv\n",
    "data1=[\"Neha\",\"does\",\"Assignment\"]\n",
    "\n",
    "file1=open('List_doc','w+',newline='')\n",
    "with file1:\n",
    "    write=csv.writer(file1)\n",
    "    write.writerows(data1)"
   ]
  },
  {
   "cell_type": "code",
   "execution_count": null,
   "id": "c5f872ae",
   "metadata": {},
   "outputs": [],
   "source": [
    "5. What do the keyword arguments delimiter and line terminator do?\n",
    "Ans:The delimeter argument separates cells in a row. \n",
    "    The lineterminator argument separate rows."
   ]
  },
  {
   "cell_type": "code",
   "execution_count": null,
   "id": "7c557846",
   "metadata": {},
   "outputs": [],
   "source": [
    "6. What function takes a string of JSON data and returns a Python data structure?\n",
    "Ans:json.loads()"
   ]
  },
  {
   "cell_type": "code",
   "execution_count": null,
   "id": "ba010c53",
   "metadata": {},
   "outputs": [],
   "source": [
    "7. What function takes a Python data structure and returns a string of JSON data?\n",
    "Ans:json.dumps()"
   ]
  },
  {
   "cell_type": "code",
   "execution_count": 3,
   "id": "e5b11777",
   "metadata": {},
   "outputs": [],
   "source": []
  },
  {
   "cell_type": "code",
   "execution_count": null,
   "id": "11365b6a",
   "metadata": {},
   "outputs": [],
   "source": []
  },
  {
   "cell_type": "code",
   "execution_count": null,
   "id": "ff96a6d2",
   "metadata": {},
   "outputs": [],
   "source": []
  },
  {
   "cell_type": "code",
   "execution_count": null,
   "id": "581c3c89",
   "metadata": {},
   "outputs": [],
   "source": []
  },
  {
   "cell_type": "code",
   "execution_count": null,
   "id": "8e0045c7",
   "metadata": {},
   "outputs": [],
   "source": []
  },
  {
   "cell_type": "code",
   "execution_count": null,
   "id": "6d9c0ad4",
   "metadata": {},
   "outputs": [],
   "source": []
  },
  {
   "cell_type": "code",
   "execution_count": null,
   "id": "309756e4",
   "metadata": {},
   "outputs": [],
   "source": []
  },
  {
   "cell_type": "code",
   "execution_count": null,
   "id": "e963186d",
   "metadata": {},
   "outputs": [],
   "source": []
  },
  {
   "cell_type": "code",
   "execution_count": null,
   "id": "de40af07",
   "metadata": {},
   "outputs": [],
   "source": []
  }
 ],
 "metadata": {
  "kernelspec": {
   "display_name": "Python 3 (ipykernel)",
   "language": "python",
   "name": "python3"
  },
  "language_info": {
   "codemirror_mode": {
    "name": "ipython",
    "version": 3
   },
   "file_extension": ".py",
   "mimetype": "text/x-python",
   "name": "python",
   "nbconvert_exporter": "python",
   "pygments_lexer": "ipython3",
   "version": "3.9.12"
  }
 },
 "nbformat": 4,
 "nbformat_minor": 5
}

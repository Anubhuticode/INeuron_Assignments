{
 "cells": [
  {
   "cell_type": "markdown",
   "id": "e39b83b9",
   "metadata": {},
   "source": [
    "# Python_Basic_Assignment_12"
   ]
  },
  {
   "cell_type": "code",
   "execution_count": null,
   "id": "0a908059",
   "metadata": {},
   "outputs": [],
   "source": [
    "1. In what modes should the PdfFileReader() and PdfFileWriter() File objects will be opened?\n",
    "Ans: PdfFileReader() should be open in read binary mode:'rb'\n",
    "     PdfFileWriter()   should be open in write binary mode:'wb'"
   ]
  },
  {
   "cell_type": "code",
   "execution_count": null,
   "id": "f7adffe3",
   "metadata": {},
   "outputs": [],
   "source": [
    "2. From a PdfFileReader object, how do you get a Page object for page 5?\n",
    "Ans:Calling getPage(4) will return a page object for page 5, since page 0 is the first page."
   ]
  },
  {
   "cell_type": "code",
   "execution_count": null,
   "id": "5b2efe2d",
   "metadata": {},
   "outputs": [],
   "source": [
    "from PyPDF2 import pdfFileReader\n",
    "pdf_reader = PdfFileReader(file_path)\n",
    "for p in pdf_reader.grtNumPages():\n",
    "    pdf_reader.getPage(p)"
   ]
  },
  {
   "cell_type": "code",
   "execution_count": null,
   "id": "ea0f3954",
   "metadata": {},
   "outputs": [],
   "source": [
    "3. What PdfFileReader variable stores the number of pages in the PDF document?\n",
    "Ans:getNumPages() method of PdfFileReader class stores the no pages in a PDF document."
   ]
  },
  {
   "cell_type": "code",
   "execution_count": null,
   "id": "c62d0609",
   "metadata": {},
   "outputs": [],
   "source": [
    "4. If a PdfFileReader object’s PDF is encrypted with the password swordfish, what must you do\n",
    "before you can obtain Page objects from it?\n",
    "Ans: To read an encrypted PDF, call the decrypt() function and pass the password as a string, in our case it is swordfish. After we call decrypt() with the correct password, you’ll see that calling getPage() no longer causes an error.\n",
    "Call decrypt('swordfish')."
   ]
  },
  {
   "cell_type": "code",
   "execution_count": null,
   "id": "2d4ea7d2",
   "metadata": {},
   "outputs": [],
   "source": [
    "5.What methods do you use to rotate a page?\n",
    "Ans:The pages of a PDF can be rotated in 90-degree increments with the rotateClockwise() and rotateCounterClockwise() methods."
   ]
  },
  {
   "cell_type": "code",
   "execution_count": null,
   "id": "42faf43f",
   "metadata": {},
   "outputs": [],
   "source": [
    "6.What is the difference between a Run object and a Paragraph object?\n",
    "Ans:A document contains multiple paragraphs. A paragraph begins on a new line and contains multiple runs.\n",
    "    Runs are contiguous groups of charecters within a paragraph."
   ]
  },
  {
   "cell_type": "code",
   "execution_count": null,
   "id": "010c8411",
   "metadata": {},
   "outputs": [],
   "source": [
    "7.How do you obtain a list of Paragraph objects for a Document object that’s stored in a variable named doc?\n",
    "Ans:len(doc.paragraphs)"
   ]
  },
  {
   "cell_type": "code",
   "execution_count": null,
   "id": "b0c8cf57",
   "metadata": {},
   "outputs": [],
   "source": [
    "8.What type of object has bold, underline, italic, strike, and outline variables?\n",
    "Ans:Run Object"
   ]
  },
  {
   "cell_type": "code",
   "execution_count": null,
   "id": "bc2d4fa4",
   "metadata": {},
   "outputs": [],
   "source": [
    "9:What is the difference between False, True, and None for the bold variable?\n",
    "    Ans:True always makes the run object bolded and False makes it always not bolded, no matter what the style's bold settings is. \n",
    "        None will make the Run object just use the style's bold settings."
   ]
  },
  {
   "cell_type": "code",
   "execution_count": null,
   "id": "3487b883",
   "metadata": {},
   "outputs": [],
   "source": [
    "10. How do you create a Document object for a new Word document?\n",
    "Ans:mydoc = docx.Document()"
   ]
  },
  {
   "cell_type": "code",
   "execution_count": null,
   "id": "699c499b",
   "metadata": {},
   "outputs": [],
   "source": [
    "11.How do you add a paragraph with the text 'Hello, there!' to a Document object stored in a variable named doc?\n",
    "Ans:doc.add_paragraph('Hello, there!')"
   ]
  },
  {
   "cell_type": "code",
   "execution_count": null,
   "id": "75b9e377",
   "metadata": {},
   "outputs": [],
   "source": [
    "12.What integers represent the levels of headings available in Word documents?\n",
    "Ans:The arguments to add_heading() are a string of the heading text and an integer from 0 to 4. \n",
    "    The integer 0 makes the heading the Title style, which is used for the top of the document.\n",
    "    Integers 1 to 4 are for various heading levels, with 1 being the main heading and 4 the lowest subheading. \n",
    "    The add_heading() \n",
    "    function returns a Paragraph object to save you the step of extracting it from the Document object as a separate step."
   ]
  },
  {
   "cell_type": "code",
   "execution_count": null,
   "id": "9fd4a7c6",
   "metadata": {},
   "outputs": [],
   "source": []
  },
  {
   "cell_type": "code",
   "execution_count": null,
   "id": "0bd44cd3",
   "metadata": {},
   "outputs": [],
   "source": []
  },
  {
   "cell_type": "code",
   "execution_count": null,
   "id": "070cf842",
   "metadata": {},
   "outputs": [],
   "source": []
  }
 ],
 "metadata": {
  "kernelspec": {
   "display_name": "Python 3 (ipykernel)",
   "language": "python",
   "name": "python3"
  },
  "language_info": {
   "codemirror_mode": {
    "name": "ipython",
    "version": 3
   },
   "file_extension": ".py",
   "mimetype": "text/x-python",
   "name": "python",
   "nbconvert_exporter": "python",
   "pygments_lexer": "ipython3",
   "version": "3.9.12"
  }
 },
 "nbformat": 4,
 "nbformat_minor": 5
}

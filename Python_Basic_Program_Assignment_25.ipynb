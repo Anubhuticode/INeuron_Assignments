{
 "cells": [
  {
   "cell_type": "markdown",
   "id": "a2b3b508",
   "metadata": {},
   "source": [
    "# Python_Basic_Program_Assignment_25"
   ]
  },
  {
   "cell_type": "code",
   "execution_count": null,
   "id": "bef076ff",
   "metadata": {},
   "outputs": [],
   "source": [
    "1. Create a function that takes three integer arguments (a, b, c) and returns the amount of\n",
    "integers which are of equal value. \n",
    "Examples equal(3, 4, 3) ➞ 2 equal(1, 1, 1) ➞ 3 equal(3, 4, 1) ➞ 0 Notes Your function must return 0, 2 or 3."
   ]
  },
  {
   "cell_type": "code",
   "execution_count": 11,
   "id": "62577e7b",
   "metadata": {},
   "outputs": [
    {
     "data": {
      "text/plain": [
       "2"
      ]
     },
     "execution_count": 11,
     "metadata": {},
     "output_type": "execute_result"
    }
   ],
   "source": [
    "def fun(lst):    \n",
    "    for i in lst:\n",
    "        if lst.count(i)>1:\n",
    "            return lst.count(i)\n",
    "        else:\n",
    "            return 0\n",
    "fun([3,4,3])        "
   ]
  },
  {
   "cell_type": "code",
   "execution_count": 8,
   "id": "7eda38ee",
   "metadata": {},
   "outputs": [
    {
     "data": {
      "text/plain": [
       "3"
      ]
     },
     "execution_count": 8,
     "metadata": {},
     "output_type": "execute_result"
    }
   ],
   "source": [
    "fun([1,1,1])"
   ]
  },
  {
   "cell_type": "code",
   "execution_count": 12,
   "id": "e229f713",
   "metadata": {},
   "outputs": [
    {
     "data": {
      "text/plain": [
       "0"
      ]
     },
     "execution_count": 12,
     "metadata": {},
     "output_type": "execute_result"
    }
   ],
   "source": [
    "fun([3,4,1])"
   ]
  },
  {
   "cell_type": "code",
   "execution_count": null,
   "id": "3f48264a",
   "metadata": {},
   "outputs": [],
   "source": [
    "2. Write a function that converts a dictionary into a list of keys-values tuples.\n",
    "Examples dict_to_list({ 'D': 1, 'B': 2, 'C': 3 }) ➞ [('B', 2), ('C', 3), ('D', 1)] \n",
    "dict_to_list({ 'likes': 2, 'dislikes': 3, 'followers': 10 }) ➞ [('dislikes', 3), ('followers', 10), ('likes', 2)]\n",
    "Notes Return the elements in the list in alphabetical order."
   ]
  },
  {
   "cell_type": "code",
   "execution_count": 20,
   "id": "46ee5d8b",
   "metadata": {},
   "outputs": [
    {
     "data": {
      "text/plain": [
       "[('D', 1), ('B', 2), ('C', 3)]"
      ]
     },
     "execution_count": 20,
     "metadata": {},
     "output_type": "execute_result"
    }
   ],
   "source": [
    "def dict_to_list(dis):\n",
    "    return list(dis.items())\n",
    "dict_to_list({ 'D': 1, 'B': 2, 'C': 3 })\n",
    "        "
   ]
  },
  {
   "cell_type": "code",
   "execution_count": 21,
   "id": "f7137775",
   "metadata": {},
   "outputs": [
    {
     "data": {
      "text/plain": [
       "[('likes', 2), ('dislikes', 3), ('followers', 10)]"
      ]
     },
     "execution_count": 21,
     "metadata": {},
     "output_type": "execute_result"
    }
   ],
   "source": [
    "dict_to_list({ 'likes': 2, 'dislikes': 3, 'followers': 10 })"
   ]
  },
  {
   "cell_type": "code",
   "execution_count": null,
   "id": "70d7cede",
   "metadata": {},
   "outputs": [],
   "source": [
    "3. Write a function that creates a dictionary with each (key, value) pair being the (lower case,\n",
    "upper case) versions of a letter, respectively. Examples mapping(['p', 's']) ➞ { 'p': 'P', 's': 'S' }\n",
    "mapping(['a', 'b', 'c']) ➞ { 'a': 'A', 'b': 'B', 'c': 'C' } mapping(['a', 'v', 'y', 'z']) ➞\n",
    "{ 'a': 'A', 'v': 'V', 'y': 'Y', 'z': 'Z' } \n",
    "Notes All of the letters in the input list will always be lowercase."
   ]
  },
  {
   "cell_type": "code",
   "execution_count": 22,
   "id": "f2fc04bd",
   "metadata": {},
   "outputs": [
    {
     "data": {
      "text/plain": [
       "{'p': 'P', 's': 'S'}"
      ]
     },
     "execution_count": 22,
     "metadata": {},
     "output_type": "execute_result"
    }
   ],
   "source": [
    "def mapping(l):\n",
    "    return {v.lower():v.upper() for v in l}\n",
    "mapping(['p', 's'])"
   ]
  },
  {
   "cell_type": "code",
   "execution_count": 23,
   "id": "bbf205ea",
   "metadata": {},
   "outputs": [
    {
     "data": {
      "text/plain": [
       "{'a': 'A', 'b': 'B', 'c': 'C'}"
      ]
     },
     "execution_count": 23,
     "metadata": {},
     "output_type": "execute_result"
    }
   ],
   "source": [
    "mapping(['a', 'b', 'c'])"
   ]
  },
  {
   "cell_type": "code",
   "execution_count": 24,
   "id": "26a744d2",
   "metadata": {},
   "outputs": [
    {
     "data": {
      "text/plain": [
       "{'a': 'A', 'v': 'V', 'y': 'Y', 'z': 'Z'}"
      ]
     },
     "execution_count": 24,
     "metadata": {},
     "output_type": "execute_result"
    }
   ],
   "source": [
    "mapping(['a', 'v', 'y', 'z']) "
   ]
  },
  {
   "cell_type": "code",
   "execution_count": null,
   "id": "b4ac68dc",
   "metadata": {},
   "outputs": [],
   "source": [
    "4. Write a function, that replaces all vowels in a string with a specified vowel.\n",
    "Examples vow_replace('apples and bananas', 'u') ➞ 'upplus und bununus' vow_replace('cheese casserole', 'o') ➞ \n",
    "'chooso cossorolo' vow_replace('stuffed jalapeno poppers', 'e') ➞ 'steffed jelepene peppers' \n",
    "Notes All words will be lowercase. Y is not considered a vowel."
   ]
  },
  {
   "cell_type": "code",
   "execution_count": 34,
   "id": "c625f695",
   "metadata": {},
   "outputs": [],
   "source": [
    "def vow_replace(st,v):\n",
    "    stn=[]\n",
    "    a=[\"a\",\"e\",\"i\",\"o\",\"u\",\"A\",\"E\",\"I\",\"O\",\"U\"]\n",
    "    for i in range(0,len(st)):\n",
    "        if st[i] in a:\n",
    "            stn.append(v)\n",
    "        else:\n",
    "            stn.append(st[i])  \n",
    "    return ''.join(stn )     "
   ]
  },
  {
   "cell_type": "code",
   "execution_count": 35,
   "id": "8971683e",
   "metadata": {},
   "outputs": [
    {
     "data": {
      "text/plain": [
       "'upplus und bununus'"
      ]
     },
     "execution_count": 35,
     "metadata": {},
     "output_type": "execute_result"
    }
   ],
   "source": [
    "vow_replace('apples and bananas', 'u')"
   ]
  },
  {
   "cell_type": "code",
   "execution_count": null,
   "id": "99f049c8",
   "metadata": {},
   "outputs": [],
   "source": []
  },
  {
   "cell_type": "code",
   "execution_count": null,
   "id": "bda9dbe1",
   "metadata": {},
   "outputs": [],
   "source": [
    "5. Create a function that takes a string as input and capitalizes a letter if its ASCII code is even\n",
    "and returns its lower case version if its ASCII code is odd. Examples ascii_capitalize('to be or not to be!') ➞\n",
    "'To Be oR NoT To Be!' ascii_capitalize('THE LITTLE MERMAID') ➞ 'THe LiTTLe meRmaiD' \n",
    "ascii_capitalize('Oh what a beautiful morning.') ➞ 'oH wHaT a BeauTiFuL moRNiNg.'"
   ]
  },
  {
   "cell_type": "code",
   "execution_count": 37,
   "id": "a0f3e190",
   "metadata": {},
   "outputs": [],
   "source": [
    "def ascii_capitalize(s):\n",
    "    s1 = []\n",
    "    for i in range(len(s)):\n",
    "        if ord(s[i]) % 2 == 0:\n",
    "            s1.append(s[i].upper())\n",
    "        else:\n",
    "            s1.append(s[i].lower())\n",
    "\n",
    "    return \"\".join((s1))"
   ]
  },
  {
   "cell_type": "code",
   "execution_count": 38,
   "id": "37cb9132",
   "metadata": {},
   "outputs": [
    {
     "data": {
      "text/plain": [
       "'To Be oR NoT To Be!'"
      ]
     },
     "execution_count": 38,
     "metadata": {},
     "output_type": "execute_result"
    }
   ],
   "source": [
    "ascii_capitalize('to be or not to be!') "
   ]
  },
  {
   "cell_type": "code",
   "execution_count": null,
   "id": "11c6a32e",
   "metadata": {},
   "outputs": [],
   "source": []
  },
  {
   "cell_type": "code",
   "execution_count": null,
   "id": "89fbb18b",
   "metadata": {},
   "outputs": [],
   "source": []
  }
 ],
 "metadata": {
  "kernelspec": {
   "display_name": "Python 3 (ipykernel)",
   "language": "python",
   "name": "python3"
  },
  "language_info": {
   "codemirror_mode": {
    "name": "ipython",
    "version": 3
   },
   "file_extension": ".py",
   "mimetype": "text/x-python",
   "name": "python",
   "nbconvert_exporter": "python",
   "pygments_lexer": "ipython3",
   "version": "3.9.12"
  }
 },
 "nbformat": 4,
 "nbformat_minor": 5
}

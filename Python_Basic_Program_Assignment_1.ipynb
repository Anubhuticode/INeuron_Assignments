{
 "cells": [
  {
   "cell_type": "markdown",
   "id": "2adbe66d",
   "metadata": {},
   "source": [
    "# Python_Basic_Program_Assignment_1"
   ]
  },
  {
   "cell_type": "code",
   "execution_count": null,
   "id": "9875429f",
   "metadata": {},
   "outputs": [],
   "source": [
    "1. Write a Python program to print 'Hello Python'?"
   ]
  },
  {
   "cell_type": "code",
   "execution_count": 1,
   "id": "3379ec71",
   "metadata": {},
   "outputs": [
    {
     "name": "stdout",
     "output_type": "stream",
     "text": [
      "Hello Python\n"
     ]
    }
   ],
   "source": [
    "print('Hello Python')"
   ]
  },
  {
   "cell_type": "code",
   "execution_count": null,
   "id": "225fe692",
   "metadata": {},
   "outputs": [],
   "source": [
    "2. Write a Python program to do arithmetical operations addition and division.?"
   ]
  },
  {
   "cell_type": "code",
   "execution_count": 5,
   "id": "a7696dd9",
   "metadata": {},
   "outputs": [
    {
     "name": "stdout",
     "output_type": "stream",
     "text": [
      "Enter first number10\n",
      "Enter Second number20\n",
      "The sum is : 30\n",
      "The difference is : -10\n"
     ]
    }
   ],
   "source": [
    "a=int(input(\"Enter first number\"))\n",
    "b=int(input(\"Enter Second number\"))\n",
    "c=a+b\n",
    "d=a-b\n",
    "print(\"The sum is :\",c)\n",
    "print(\"The difference is :\",d)\n"
   ]
  },
  {
   "cell_type": "code",
   "execution_count": null,
   "id": "8ac838ce",
   "metadata": {},
   "outputs": [],
   "source": [
    "3. Write a Python program to find the area of a triangle?    "
   ]
  },
  {
   "cell_type": "code",
   "execution_count": 9,
   "id": "53548f85",
   "metadata": {},
   "outputs": [
    {
     "name": "stdout",
     "output_type": "stream",
     "text": [
      "Enter the base value 3\n",
      "Enter the height value 2\n",
      "The area of triangle is 3.0\n"
     ]
    }
   ],
   "source": [
    "a=int(input('Enter the base value '))\n",
    "b=int(input('Enter the height value '))\n",
    "Area=0.5*a*b\n",
    "print(f'The area of triangle is',Area)"
   ]
  },
  {
   "cell_type": "code",
   "execution_count": null,
   "id": "a69c0026",
   "metadata": {},
   "outputs": [],
   "source": [
    "4. Write a Python program to swap two variables?"
   ]
  },
  {
   "cell_type": "code",
   "execution_count": 10,
   "id": "3dae633a",
   "metadata": {},
   "outputs": [
    {
     "name": "stdout",
     "output_type": "stream",
     "text": [
      "Enter the First number 2\n",
      "Enter the Second number 3\n",
      "First number is 3\n",
      "Second number is  2\n"
     ]
    }
   ],
   "source": [
    "a=int(input('Enter the First number '))\n",
    "b=int(input('Enter the Second number '))\n",
    "c=a\n",
    "a=b\n",
    "b=c\n",
    "print('First number is',a)\n",
    "print('Second number is ',b)"
   ]
  },
  {
   "cell_type": "code",
   "execution_count": null,
   "id": "7e67b1b6",
   "metadata": {},
   "outputs": [],
   "source": [
    "5. Write a Python program to generate a random number?"
   ]
  },
  {
   "cell_type": "code",
   "execution_count": 13,
   "id": "7395ab50",
   "metadata": {},
   "outputs": [
    {
     "data": {
      "text/plain": [
       "4"
      ]
     },
     "execution_count": 13,
     "metadata": {},
     "output_type": "execute_result"
    }
   ],
   "source": [
    "import random\n",
    "a=random.randint(2,6)\n",
    "a"
   ]
  }
 ],
 "metadata": {
  "kernelspec": {
   "display_name": "Python 3 (ipykernel)",
   "language": "python",
   "name": "python3"
  },
  "language_info": {
   "codemirror_mode": {
    "name": "ipython",
    "version": 3
   },
   "file_extension": ".py",
   "mimetype": "text/x-python",
   "name": "python",
   "nbconvert_exporter": "python",
   "pygments_lexer": "ipython3",
   "version": "3.9.12"
  }
 },
 "nbformat": 4,
 "nbformat_minor": 5
}

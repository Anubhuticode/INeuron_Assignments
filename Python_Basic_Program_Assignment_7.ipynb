{
 "cells": [
  {
   "cell_type": "markdown",
   "id": "3db33721",
   "metadata": {},
   "source": [
    "# Python_Basic_Program_Assignment_7"
   ]
  },
  {
   "cell_type": "code",
   "execution_count": null,
   "id": "4f3ec6e5",
   "metadata": {},
   "outputs": [],
   "source": [
    "1.Write a Python Program to find sum of array?"
   ]
  },
  {
   "cell_type": "code",
   "execution_count": 7,
   "id": "05539071",
   "metadata": {},
   "outputs": [
    {
     "name": "stdout",
     "output_type": "stream",
     "text": [
      "9\n"
     ]
    }
   ],
   "source": [
    "import array as arr\n",
    "a=arr.array('i',[2,3,4])\n",
    "sum=0\n",
    "for i in range(0, len(a)):\n",
    "    sum=sum+a[i]\n",
    "print(sum)    "
   ]
  },
  {
   "cell_type": "code",
   "execution_count": null,
   "id": "b0c9459d",
   "metadata": {},
   "outputs": [],
   "source": [
    "2. Write a Python Program to find largest element in an array?"
   ]
  },
  {
   "cell_type": "code",
   "execution_count": 7,
   "id": "1b3a3abc",
   "metadata": {},
   "outputs": [
    {
     "name": "stdout",
     "output_type": "stream",
     "text": [
      "Array\n",
      "2 4 6 8 7 5 \r\n",
      "The largest element in array is : 8\n"
     ]
    }
   ],
   "source": [
    "import array as arr\n",
    "b=arr.array('i',[2,4,6,8,7,5])\n",
    "large=b[0]\n",
    "print(\"Array\")\n",
    "for i in range(0,len(b)):\n",
    "    print(b[i],end=\" \")\n",
    "print(\"\\r\")\n",
    "for i in range(0,len(b)):\n",
    "    if b[i]>large:\n",
    "         large=b[i] \n",
    "print(\"The largest element in array is :\",large)          \n",
    "      \n",
    "    "
   ]
  },
  {
   "cell_type": "code",
   "execution_count": null,
   "id": "a2cfe0eb",
   "metadata": {},
   "outputs": [],
   "source": [
    "3. Write a Python Program for array rotation?"
   ]
  },
  {
   "cell_type": "code",
   "execution_count": 18,
   "id": "4c953488",
   "metadata": {},
   "outputs": [
    {
     "name": "stdout",
     "output_type": "stream",
     "text": [
      "The original array is:\n",
      "2 4 6 8 7 5 \r\n",
      "The reversed array is :\n",
      "2 4 6 8 7 "
     ]
    }
   ],
   "source": [
    "import array as arr\n",
    "b=arr.array('i',[2,4,6,8,7,5])\n",
    "print(\"The original array is:\")\n",
    "for i in range(0,len(b)):\n",
    "    print(b[i],end=\" \")\n",
    "print(\"\\r\")    \n",
    "l=list(b)\n",
    "r=l[:-1]\n",
    "b=arr.array(\"i\",r)\n",
    "print(\"The reversed array is :\")\n",
    "for i in range(0,len(b)):\n",
    "    print(b[i],end=\" \")\n",
    "    "
   ]
  },
  {
   "cell_type": "code",
   "execution_count": null,
   "id": "543db60b",
   "metadata": {},
   "outputs": [],
   "source": [
    "4. Write a Python Program to Split the array and add the first part to the end?"
   ]
  },
  {
   "cell_type": "code",
   "execution_count": 14,
   "id": "f0eccf4f",
   "metadata": {},
   "outputs": [
    {
     "name": "stdout",
     "output_type": "stream",
     "text": [
      "[5, 6, 7, 1, 2, 3, 4]\n"
     ]
    }
   ],
   "source": [
    "a=[1,2,3,4,5,6,7]\n",
    "b=4\n",
    "c=a[:b]\n",
    "d=a[b::]+c[::]\n",
    "print(d)"
   ]
  },
  {
   "cell_type": "code",
   "execution_count": null,
   "id": "a9f30c23",
   "metadata": {},
   "outputs": [],
   "source": [
    "5. Write a Python Program to check if given array is Monotonic?"
   ]
  },
  {
   "cell_type": "code",
   "execution_count": 13,
   "id": "96c73ed7",
   "metadata": {},
   "outputs": [
    {
     "name": "stdout",
     "output_type": "stream",
     "text": [
      "Array is monotonic\n"
     ]
    }
   ],
   "source": [
    "a = [4, 5, 6, 7]\n",
    "x=[]\n",
    "y=[]\n",
    "x.extend(a)\n",
    "y.extend(a)\n",
    "x.sort()\n",
    "y.sort(reverse=True)\n",
    "if(x == a or y == a):\n",
    "    print(\"Array is monotonic\")\n",
    "else:\n",
    "       print(\"Array is not monotonic\")"
   ]
  }
 ],
 "metadata": {
  "kernelspec": {
   "display_name": "Python 3 (ipykernel)",
   "language": "python",
   "name": "python3"
  },
  "language_info": {
   "codemirror_mode": {
    "name": "ipython",
    "version": 3
   },
   "file_extension": ".py",
   "mimetype": "text/x-python",
   "name": "python",
   "nbconvert_exporter": "python",
   "pygments_lexer": "ipython3",
   "version": "3.9.12"
  }
 },
 "nbformat": 4,
 "nbformat_minor": 5
}

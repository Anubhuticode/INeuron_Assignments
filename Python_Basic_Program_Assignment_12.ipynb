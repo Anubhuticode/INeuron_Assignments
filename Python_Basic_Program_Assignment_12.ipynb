{
 "cells": [
  {
   "cell_type": "markdown",
   "id": "3e65c1dc",
   "metadata": {},
   "source": [
    "# Python_Basic_Program_Assignment_12"
   ]
  },
  {
   "cell_type": "code",
   "execution_count": null,
   "id": "a5ac52f1",
   "metadata": {},
   "outputs": [],
   "source": [
    "1. Write a Python program to Extract Unique values dictionary values?"
   ]
  },
  {
   "cell_type": "code",
   "execution_count": 8,
   "id": "8bdae7cc",
   "metadata": {},
   "outputs": [
    {
     "name": "stdout",
     "output_type": "stream",
     "text": [
      "The unique value og dictionary are:  {'Neha', 'Anubhuti', 'Data', 'Scientist'}\n"
     ]
    }
   ],
   "source": [
    "dict1={\"a\":\"Neha\",\"b\":\"Anubhuti\",\"c\":\"Data\",\"d\":\"Scientist\",\"e\":\"Neha\",\"f\":\"Data\"}\n",
    "l1=dict1.values()\n",
    "l2=set(l1)\n",
    "print(\"The unique value og dictionary are: \",l2)"
   ]
  },
  {
   "cell_type": "code",
   "execution_count": null,
   "id": "987cd67a",
   "metadata": {},
   "outputs": [],
   "source": [
    "2. Write a Python program to find the sum of all items in a dictionary?"
   ]
  },
  {
   "cell_type": "code",
   "execution_count": 9,
   "id": "3240f579",
   "metadata": {},
   "outputs": [
    {
     "name": "stdout",
     "output_type": "stream",
     "text": [
      "The sum of all items in the dictionary is: 2100\n"
     ]
    }
   ],
   "source": [
    "dict1={\"a\": 100,\"b\":200,\"c\":300,\"d\":400,\"e\":500,\"f\":600}\n",
    "l1=dict1.values()\n",
    "print(\"The sum of all items in the dictionary is:\",sum(l1))\n"
   ]
  },
  {
   "cell_type": "code",
   "execution_count": null,
   "id": "d4d4535a",
   "metadata": {},
   "outputs": [],
   "source": [
    "3. Write a Python program to Merging two Dictionaries?"
   ]
  },
  {
   "cell_type": "code",
   "execution_count": 23,
   "id": "0a225878",
   "metadata": {},
   "outputs": [
    {
     "name": "stdout",
     "output_type": "stream",
     "text": [
      "The resultant dict is: {'m': 100, 'n': 200, 'o': 300, 'p': 400, 'q': 500, 'r': 600, 'a': 'Neha', 'b': 'Anubhuti', 'c': 'Data', 'd': 'Scientist', 'e': 'Neha', 'f': 'Data'}\n"
     ]
    }
   ],
   "source": [
    "dict1={\"a\":\"Neha\",\"b\":\"Anubhuti\",\"c\":\"Data\",\"d\":\"Scientist\",\"e\":\"Neha\",\"f\":\"Data\"}\n",
    "dict2={\"m\": 100,\"n\":200,\"o\":300,\"p\":400,\"q\":500,\"r\":600}\n",
    "dict3=dict2.copy()\n",
    "dict3.update(dict1)\n",
    "print(\"The resultant dict is:\",dict3)\n"
   ]
  },
  {
   "cell_type": "code",
   "execution_count": null,
   "id": "04c852fa",
   "metadata": {},
   "outputs": [],
   "source": [
    "4. Write a Python program to convert key-values list to flat dictionary?"
   ]
  },
  {
   "cell_type": "code",
   "execution_count": 26,
   "id": "e32f207b",
   "metadata": {},
   "outputs": [
    {
     "name": "stdout",
     "output_type": "stream",
     "text": [
      "OLd dictinoary is {'month': [1, 2, 3, 4, 5, 6], 'name': ['Jan', 'Feb', 'March', 'Apr', 'May', 'June']}\n",
      "Flat dictionary {1: 'Jan', 2: 'Feb', 3: 'March', 4: 'Apr', 5: 'May', 6: 'June'}\n"
     ]
    }
   ],
   "source": [
    "from itertools import product\n",
    "my_dict = {'month' : [1, 2, 3, 4, 5, 6], 'name' : ['Jan', 'Feb', 'March', 'Apr', 'May', 'June']}\n",
    "\n",
    "print(\"OLd dictinoary is\",my_dict)\n",
    "\n",
    "my_result = dict(zip(my_dict['month'], my_dict['name']))\n",
    "\n",
    "print(\"Flat dictionary\",my_result)"
   ]
  },
  {
   "cell_type": "code",
   "execution_count": null,
   "id": "afa1d9a0",
   "metadata": {},
   "outputs": [],
   "source": [
    "5. Write a Python program to insertion at the beginning in OrderedDict?"
   ]
  },
  {
   "cell_type": "code",
   "execution_count": 29,
   "id": "80687848",
   "metadata": {},
   "outputs": [
    {
     "name": "stdout",
     "output_type": "stream",
     "text": [
      "Final dictionary is: OrderedDict([('Python', 3), ('NEha', 1), ('Anubhuti', 2)])\n"
     ]
    }
   ],
   "source": [
    "from collections import OrderedDict\n",
    "dict1=OrderedDict([(\"NEha\",1),(\"Anubhuti\",2)])\n",
    "dict1.update({\"Python\":3})\n",
    "dict1.move_to_end(\"Python\",last=False)\n",
    "print(\"Final dictionary is:\",dict1)"
   ]
  },
  {
   "cell_type": "code",
   "execution_count": null,
   "id": "bfbd75f8",
   "metadata": {},
   "outputs": [],
   "source": [
    "6. Write a Python program to check order of character in string using OrderedDict()?"
   ]
  },
  {
   "cell_type": "code",
   "execution_count": 31,
   "id": "e6165fcd",
   "metadata": {},
   "outputs": [
    {
     "name": "stdout",
     "output_type": "stream",
     "text": [
      "The string is \n",
      "Hello My name is Neha\n",
      "The input pattern is \n",
      "MN\n",
      "The order of pattern is correct\n"
     ]
    }
   ],
   "source": [
    "from collections import OrderedDict\n",
    "def check_order(my_input, my_pattern):\n",
    "    my_dict = OrderedDict.fromkeys(my_input)\n",
    "    pattern_length = 0\n",
    "    for key,value in my_dict.items():\n",
    "        if (key == my_pattern[pattern_length]):\n",
    "            pattern_length = pattern_length + 1\n",
    "\n",
    "        if (pattern_length == (len(my_pattern))):\n",
    "            return 'The order of pattern is correct'\n",
    "\n",
    "    return 'The order of pattern is incorrect'\n",
    "\n",
    "my_input = 'Hello My name is Neha'\n",
    "input_pattern = 'MN'\n",
    "print(\"The string is \")\n",
    "print(my_input)\n",
    "print(\"The input pattern is \")\n",
    "print(input_pattern)\n",
    "print(check_order(my_input,input_pattern))"
   ]
  },
  {
   "cell_type": "code",
   "execution_count": null,
   "id": "199c8b38",
   "metadata": {},
   "outputs": [],
   "source": [
    "7. Write a Python program to sort Python Dictionaries by Key or Value?"
   ]
  },
  {
   "cell_type": "code",
   "execution_count": null,
   "id": "a3e8d91e",
   "metadata": {},
   "outputs": [],
   "source": [
    "# Creates a sorted dictionary (sorted by key)\n",
    "from collections import OrderedDict\n",
    "\n",
    "dict = {'ravi': '10', 'rajnish': '9',\n",
    "\t\t'sanjeev': '15', 'yash': '2', 'suraj': '32'}\n",
    "dict1 = OrderedDict(sorted(dict.items()))\n",
    "print(dict1)\n"
   ]
  },
  {
   "cell_type": "code",
   "execution_count": 33,
   "id": "d7acf24c",
   "metadata": {},
   "outputs": [
    {
     "name": "stdout",
     "output_type": "stream",
     "text": [
      "OrderedDict([('a', 'Neha'), ('b', 'Anubhuti'), ('c', 'Data'), ('d', 'Scientist'), ('e', 'Neha'), ('f', 'Data')])\n"
     ]
    }
   ],
   "source": [
    "from collections import OrderedDict\n",
    "dict1={\"a\":\"Neha\",\"b\":\"Anubhuti\",\"c\":\"Data\",\"f\":\"Data\",\"d\":\"Scientist\",\"e\":\"Neha\"}\n",
    "dict1 = OrderedDict(sorted(dict1.items()))\n",
    "print(dict1)"
   ]
  }
 ],
 "metadata": {
  "kernelspec": {
   "display_name": "Python 3 (ipykernel)",
   "language": "python",
   "name": "python3"
  },
  "language_info": {
   "codemirror_mode": {
    "name": "ipython",
    "version": 3
   },
   "file_extension": ".py",
   "mimetype": "text/x-python",
   "name": "python",
   "nbconvert_exporter": "python",
   "pygments_lexer": "ipython3",
   "version": "3.9.12"
  }
 },
 "nbformat": 4,
 "nbformat_minor": 5
}

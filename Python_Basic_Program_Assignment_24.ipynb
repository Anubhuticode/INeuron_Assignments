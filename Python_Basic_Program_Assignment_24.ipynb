{
 "cells": [
  {
   "cell_type": "markdown",
   "id": "04717416",
   "metadata": {},
   "source": [
    "# Python_Basic_Program_Assignment_24"
   ]
  },
  {
   "cell_type": "code",
   "execution_count": null,
   "id": "6b4be548",
   "metadata": {},
   "outputs": [],
   "source": [
    "1. Create a function that takes an integer and returns a list from 1 to the given number, where:\n",
    "1. If the number can be divided evenly by 4, amplify it by 10 (i.e. return 10 times the\n",
    "number).\n",
    "2. If the number cannot be divided evenly by 4, simply return the number."
   ]
  },
  {
   "cell_type": "code",
   "execution_count": 3,
   "id": "79d588fc",
   "metadata": {},
   "outputs": [
    {
     "data": {
      "text/plain": [
       "[0, 1, 2, 3, 40, 5, 6, 7, 80, 9, 10]"
      ]
     },
     "execution_count": 3,
     "metadata": {},
     "output_type": "execute_result"
    }
   ],
   "source": [
    "def amp(n):\n",
    "    return [i*10 if i%4==0 else i for i in range(0,n+1)]\n",
    "amp(10)"
   ]
  },
  {
   "cell_type": "code",
   "execution_count": null,
   "id": "c8e57077",
   "metadata": {},
   "outputs": [],
   "source": [
    "2. Create a function that takes a list of numbers and return the number that's unique."
   ]
  },
  {
   "cell_type": "code",
   "execution_count": 8,
   "id": "a2e6e672",
   "metadata": {},
   "outputs": [
    {
     "data": {
      "text/plain": [
       "7"
      ]
     },
     "execution_count": 8,
     "metadata": {},
     "output_type": "execute_result"
    }
   ],
   "source": [
    "def uniq(n):\n",
    "    s=list(set(n))\n",
    "    for i in s:\n",
    "        if n.count(i)==1:\n",
    "            return i\n",
    "uniq([3,3,3,7])        "
   ]
  },
  {
   "cell_type": "code",
   "execution_count": null,
   "id": "44a37002",
   "metadata": {},
   "outputs": [],
   "source": [
    "3. Your task is to create a Circle constructor that creates a circle with a radius provided by an\n",
    "\n",
    "argument. The circles constructed must have two getters getArea() (PIr^2) and getPerimeter() (2PI*r) which give both respective areas and perimeter (circumference).\n",
    "\n",
    "For help with this class, I have provided you with a Rectangle constructor which you can use as a base example."
   ]
  },
  {
   "cell_type": "code",
   "execution_count": 16,
   "id": "0127efef",
   "metadata": {},
   "outputs": [
    {
     "name": "stdout",
     "output_type": "stream",
     "text": [
      "The area of circle is: 314.1592653589793\n",
      "The perimeter of circle is: 62.83185307179586\n"
     ]
    }
   ],
   "source": [
    "import math\n",
    "class Circle():\n",
    "    def __init__(self,r):\n",
    "        self.radius=r\n",
    "        \n",
    "    def getArea(self):\n",
    "        return math.pi*((self.radius)**2)\n",
    "    def perimeter(self):\n",
    "        return 2*(self.radius)*math.pi\n",
    "c=Circle(10)\n",
    "print(\"The area of circle is:\",c.getArea())\n",
    "print(\"The perimeter of circle is:\",c.perimeter())"
   ]
  },
  {
   "cell_type": "code",
   "execution_count": null,
   "id": "96411e9d",
   "metadata": {},
   "outputs": [],
   "source": [
    "4. Create a function that takes a list of strings and return a list, sorted from shortest to longest.\n",
    "\n",
    "Examples sort_by_length(['Google', 'Apple', 'Microsoft']) ➞ ['Apple', 'Google', 'Microsoft'] sort_by_length(['Leonardo', 'Michelangelo', 'Raphael', 'Donatello']) ➞ ['Raphael', 'Leonardo', 'Donatello', 'Michelangelo'] sort_by_length(['Turing', 'Einstein', 'Jung']) ➞ ['Jung', 'Turing', 'Einstein'] Notes All test cases contain lists with strings of different lengths, \n",
    "so you won't have to deal with multiple strings of the same length."
   ]
  },
  {
   "cell_type": "code",
   "execution_count": 23,
   "id": "a8feb2cd",
   "metadata": {},
   "outputs": [
    {
     "data": {
      "text/plain": [
       "['Apple', 'Google', 'Microsoft']"
      ]
     },
     "execution_count": 23,
     "metadata": {},
     "output_type": "execute_result"
    }
   ],
   "source": [
    "def sorted_list(lst):\n",
    "    return sorted(lst,key=len)\n",
    "sorted_list([\"Apple\",\"Google\",\"Microsoft\"])"
   ]
  },
  {
   "cell_type": "code",
   "execution_count": null,
   "id": "fd3e62e0",
   "metadata": {},
   "outputs": [],
   "source": [
    "5. Create a function that validates whether three given integers form a Pythagorean triplet. The\n",
    "\n",
    "sum of the squares of the two smallest integers must equal the square of the largest number to be validated."
   ]
  },
  {
   "cell_type": "code",
   "execution_count": 19,
   "id": "ee998957",
   "metadata": {},
   "outputs": [
    {
     "data": {
      "text/plain": [
       "'Pythagorian triplet'"
      ]
     },
     "execution_count": 19,
     "metadata": {},
     "output_type": "execute_result"
    }
   ],
   "source": [
    "def fun2(a,b,c):\n",
    "    if a**2==(b**2+c**2):\n",
    "        return \"Pythagorian triplet\"\n",
    "    elif b**2==(a**2+c**2):\n",
    "        return \"Pythagorian triplet\"\n",
    "    elif c**2==(b**2+a**2):\n",
    "        return \"Pythagorian triplet\"\n",
    "    else:\n",
    "        return \"Not Pythagorian triplet\"\n",
    "fun2(3,4,5)    "
   ]
  },
  {
   "cell_type": "code",
   "execution_count": null,
   "id": "f7c52164",
   "metadata": {},
   "outputs": [],
   "source": []
  },
  {
   "cell_type": "code",
   "execution_count": null,
   "id": "916e3800",
   "metadata": {},
   "outputs": [],
   "source": []
  }
 ],
 "metadata": {
  "kernelspec": {
   "display_name": "Python 3 (ipykernel)",
   "language": "python",
   "name": "python3"
  },
  "language_info": {
   "codemirror_mode": {
    "name": "ipython",
    "version": 3
   },
   "file_extension": ".py",
   "mimetype": "text/x-python",
   "name": "python",
   "nbconvert_exporter": "python",
   "pygments_lexer": "ipython3",
   "version": "3.9.12"
  }
 },
 "nbformat": 4,
 "nbformat_minor": 5
}

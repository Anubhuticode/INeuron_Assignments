{
 "cells": [
  {
   "cell_type": "markdown",
   "id": "d56c823d",
   "metadata": {},
   "source": [
    "# Python_Basic_Assignment_3"
   ]
  },
  {
   "cell_type": "code",
   "execution_count": null,
   "id": "e0b05731",
   "metadata": {},
   "outputs": [],
   "source": [
    "1. Why are functions advantageous to have in your programs?\n",
    "Answer: Advantages:\n",
    "        1. Reduce the duplication of code\n",
    "        2. Increase modularity\n",
    "        3. Increases resuability of a code"
   ]
  },
  {
   "cell_type": "code",
   "execution_count": null,
   "id": "c2e5956d",
   "metadata": {},
   "outputs": [],
   "source": [
    "2. When does the code in a function run: when it is  specified or when it is called?\n",
    "Answer: Function runs when it is called inside a program.   "
   ]
  },
  {
   "cell_type": "code",
   "execution_count": null,
   "id": "dfc373eb",
   "metadata": {},
   "outputs": [],
   "source": [
    "3. What statement creates a function?\n",
    "Answer: def is used before defining a function. eg.\n",
    "    def addition(a,b):\n",
    "    \"\"\"Function to add two numbesr\"\"\"\n",
    "      return a+b\n",
    "    "
   ]
  },
  {
   "cell_type": "code",
   "execution_count": null,
   "id": "b26562fe",
   "metadata": {},
   "outputs": [],
   "source": [
    "4. What is the difference between a function and a function call?\n",
    "Answer: Function is a piece of code. It is not executed while declaring.\n",
    "        Function call is calling the function with or without paramert to execute in a program.\n",
    "        \n",
    "         eg.# function defination\n",
    "            def addition(a,b):\n",
    "                return a+b\n",
    "            #Function call\n",
    "            addition(2,3)\n",
    "            "
   ]
  },
  {
   "cell_type": "code",
   "execution_count": null,
   "id": "7668abdf",
   "metadata": {},
   "outputs": [],
   "source": [
    "5. How many global scopes are there in a Python program? How many local scopes?\n",
    "Answer: There are four scope in python:\n",
    "        1.builtin\n",
    "        2.Global\n",
    "        3.Local\n",
    "        4.Enclosing\n",
    "        A variable is only available from inside the region it is created.\n",
    "        A variable declared in global space can be used in local space as well.\n",
    "        But a variaable declared in local space cant not be used by an outerspace function or operator.\n",
    "        eg. \n",
    "        # Glbal scaope variable\n",
    "        x=10\n",
    "        def expr():\n",
    "            return x+10\n",
    "        #local scope variable\n",
    "        def expr():\n",
    "            a=10\n",
    "            return a\n",
    "        print(a)        "
   ]
  },
  {
   "cell_type": "code",
   "execution_count": null,
   "id": "b78de69d",
   "metadata": {},
   "outputs": [],
   "source": [
    "6. What happens to variables in a local scope when the function call returns?\n",
    "Answer: when the function call returns i.e. terminates, local varible is destroyed."
   ]
  },
  {
   "cell_type": "code",
   "execution_count": null,
   "id": "9b0742d2",
   "metadata": {},
   "outputs": [],
   "source": [
    "7. What is the concept of a return value? Is it possible to have a return value in an expression?\n",
    "Answer: return gives a value after execution of a function. It can have 4 datatypes integer, string, object or handle.\n",
    "       Yes, it is possible to return value in expression."
   ]
  },
  {
   "cell_type": "code",
   "execution_count": null,
   "id": "911c95ef",
   "metadata": {},
   "outputs": [],
   "source": [
    "8. If a function does not have a return statement, what is the return value of a call to that function?\n",
    "Answer: Python will return defined value None if return statement is not written."
   ]
  },
  {
   "cell_type": "code",
   "execution_count": null,
   "id": "bb68ad1d",
   "metadata": {},
   "outputs": [],
   "source": [
    "9. How do you make a function variable refer to the global variable?\n",
    "Answer:We can use global keyword to define a global variable in a local space like inside a function."
   ]
  },
  {
   "cell_type": "code",
   "execution_count": null,
   "id": "a80ef67d",
   "metadata": {},
   "outputs": [],
   "source": [
    "10. What is the data type of None?\n",
    "Answer: type(None) :NoneType"
   ]
  },
  {
   "cell_type": "code",
   "execution_count": null,
   "id": "f7d20feb",
   "metadata": {},
   "outputs": [],
   "source": [
    "11. What does the sentence import areallyourpetsnamederic do?\n",
    "Answer: It will import the module with all the functions in it."
   ]
  },
  {
   "cell_type": "code",
   "execution_count": null,
   "id": "cff4208c",
   "metadata": {},
   "outputs": [],
   "source": [
    "12. If you had a bacon() feature in a spam module, what would you call it after importing spam?\n",
    "Answer: import spam\n",
    "        spam.bacon()"
   ]
  },
  {
   "cell_type": "code",
   "execution_count": null,
   "id": "93d4d5c9",
   "metadata": {},
   "outputs": [],
   "source": [
    "13. What can you do to save a programme from crashing if it encounters an error?\n",
    "Answer: We use try and except statement to prevent from crashing.\n",
    "    when ever an error occur, it will throw an exception without crashing the program."
   ]
  },
  {
   "cell_type": "code",
   "execution_count": null,
   "id": "e80b43ad",
   "metadata": {},
   "outputs": [],
   "source": [
    "14. What is the purpose of the try clause? What is the purpose of the except clause?\n",
    "Answer: Try block test the code for error and except block throws an exception."
   ]
  },
  {
   "cell_type": "code",
   "execution_count": null,
   "id": "958bd679",
   "metadata": {},
   "outputs": [],
   "source": []
  },
  {
   "cell_type": "code",
   "execution_count": null,
   "id": "b7b548af",
   "metadata": {},
   "outputs": [],
   "source": []
  },
  {
   "cell_type": "code",
   "execution_count": null,
   "id": "8384472b",
   "metadata": {},
   "outputs": [],
   "source": []
  },
  {
   "cell_type": "code",
   "execution_count": null,
   "id": "0071dc69",
   "metadata": {},
   "outputs": [],
   "source": []
  },
  {
   "cell_type": "code",
   "execution_count": null,
   "id": "c2c723c9",
   "metadata": {},
   "outputs": [],
   "source": []
  },
  {
   "cell_type": "code",
   "execution_count": null,
   "id": "e2a16f84",
   "metadata": {},
   "outputs": [],
   "source": []
  },
  {
   "cell_type": "code",
   "execution_count": null,
   "id": "ecee9d0d",
   "metadata": {},
   "outputs": [],
   "source": []
  }
 ],
 "metadata": {
  "kernelspec": {
   "display_name": "Python 3 (ipykernel)",
   "language": "python",
   "name": "python3"
  },
  "language_info": {
   "codemirror_mode": {
    "name": "ipython",
    "version": 3
   },
   "file_extension": ".py",
   "mimetype": "text/x-python",
   "name": "python",
   "nbconvert_exporter": "python",
   "pygments_lexer": "ipython3",
   "version": "3.9.12"
  }
 },
 "nbformat": 4,
 "nbformat_minor": 5
}

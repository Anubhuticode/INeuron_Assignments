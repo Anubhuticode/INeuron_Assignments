{
 "cells": [
  {
   "cell_type": "markdown",
   "id": "9f037504",
   "metadata": {},
   "source": [
    "# Python_Basic_Program_Assignment_5"
   ]
  },
  {
   "cell_type": "code",
   "execution_count": null,
   "id": "003bb492",
   "metadata": {},
   "outputs": [],
   "source": [
    "1. Write a Python Program to Find LCM?"
   ]
  },
  {
   "cell_type": "code",
   "execution_count": 36,
   "id": "7a5d02c3",
   "metadata": {},
   "outputs": [
    {
     "name": "stdout",
     "output_type": "stream",
     "text": [
      "Enter first number: 10\n",
      "Enter second number: 5\n",
      "10\n"
     ]
    }
   ],
   "source": [
    "x = int(input(\"Enter first number: \"))  \n",
    "y = int(input(\"Enter second number: \"))  \n",
    "if x > y:\n",
    "       greater = x   \n",
    "else:\n",
    "       greater = y\n",
    "\n",
    "while(True):\n",
    "    if((greater % x == 0) and (greater % y == 0)):\n",
    "        lcm = greater\n",
    "        break\n",
    "    greater += 1\n",
    "print(lcm)   \n",
    "\n"
   ]
  },
  {
   "cell_type": "code",
   "execution_count": null,
   "id": "d7ea7062",
   "metadata": {},
   "outputs": [],
   "source": [
    "2. Write a Python Program to Find HCF?"
   ]
  },
  {
   "cell_type": "code",
   "execution_count": 38,
   "id": "b0fe0ffe",
   "metadata": {},
   "outputs": [
    {
     "ename": "SyntaxError",
     "evalue": "'return' outside function (4096415947.py, line 9)",
     "output_type": "error",
     "traceback": [
      "\u001b[1;36m  Input \u001b[1;32mIn [38]\u001b[1;36m\u001b[0m\n\u001b[1;33m    return hcf\u001b[0m\n\u001b[1;37m    ^\u001b[0m\n\u001b[1;31mSyntaxError\u001b[0m\u001b[1;31m:\u001b[0m 'return' outside function\n"
     ]
    }
   ],
   "source": [
    "def calculate_hcf(x, y):  \n",
    "        if x > y:  \n",
    "            smaller = y  \n",
    "        else:  \n",
    "            smaller = x  \n",
    "        for i in range(1,smaller + 1):  \n",
    "            if((x % i == 0) and (y % i == 0)):  \n",
    "                hcf = i  \n",
    "                return hcf  \n",
    "  \n",
    "\n",
    "num1 = int(input(\"Enter first number: \"))  \n",
    "num2 = int(input(\"Enter second number: \"))  \n",
    " \n",
    "print(\"The H.C.F. of\", num1,\"and\", num2,\"is\", calculate_hcf(num1, num2))  "
   ]
  },
  {
   "cell_type": "code",
   "execution_count": 39,
   "id": "d213da85",
   "metadata": {},
   "outputs": [
    {
     "name": "stdout",
     "output_type": "stream",
     "text": [
      "Enter first number: 10\n",
      "Enter second number: 5\n",
      "The H.C.F. is 5\n"
     ]
    }
   ],
   "source": [
    "x = int(input(\"Enter first number: \"))  \n",
    "y = int(input(\"Enter second number: \")) \n",
    "if x > y:\n",
    "    smaller = y\n",
    "else:\n",
    "    smaller = x\n",
    "for i in range(1, smaller+1):\n",
    "    if((x % i == 0) and (y % i == 0)):\n",
    "         hcf = i \n",
    " \n",
    "print(\"The H.C.F. is\", hcf)\n"
   ]
  },
  {
   "cell_type": "code",
   "execution_count": null,
   "id": "f4219c56",
   "metadata": {},
   "outputs": [],
   "source": [
    "3. Write a Python Program to Convert Decimal to Binary, Octal and Hexadecimal?"
   ]
  },
  {
   "cell_type": "code",
   "execution_count": 33,
   "id": "23dbffc8",
   "metadata": {},
   "outputs": [
    {
     "name": "stdout",
     "output_type": "stream",
     "text": [
      "Enter a Number100\n",
      "The binary value of 100 is 0b1100100\n",
      "The binary value of 100 is 0o144\n",
      "The binary value of 100 is 0x64\n"
     ]
    }
   ],
   "source": [
    "x=int(input('Enter a Number'))\n",
    "print(f'The binary value of {x} is {bin(x)}')\n",
    "print(f'The binary value of {x} is {oct(x)}')\n",
    "print(f'The binary value of {x} is {hex(x)}')\n"
   ]
  },
  {
   "cell_type": "code",
   "execution_count": null,
   "id": "7d6760b2",
   "metadata": {},
   "outputs": [],
   "source": [
    "4. Write a Python Program To Find ASCII value of a character?"
   ]
  },
  {
   "cell_type": "code",
   "execution_count": 10,
   "id": "ccc732ce",
   "metadata": {},
   "outputs": [
    {
     "name": "stdout",
     "output_type": "stream",
     "text": [
      "Enter a characterd\n",
      "The ASCII value of d is 100\n"
     ]
    }
   ],
   "source": [
    "x=input('Enter a character')\n",
    "print(f'The ASCII value of {x} is {ord(x)}')"
   ]
  },
  {
   "cell_type": "code",
   "execution_count": null,
   "id": "809d5792",
   "metadata": {},
   "outputs": [],
   "source": [
    "5. Write a Python Program to Make a Simple Calculator with 4 basic mathematical operations?"
   ]
  },
  {
   "cell_type": "code",
   "execution_count": 27,
   "id": "6e5cc6e1",
   "metadata": {},
   "outputs": [
    {
     "name": "stdout",
     "output_type": "stream",
     "text": [
      "Enter first number5\n",
      "Enter first number0\n",
      "Enter the type of operationDIV\n",
      "There is a zero division error\n"
     ]
    }
   ],
   "source": [
    "x=int(input(\"Enter first number\"))\n",
    "y=int(input(\"Enter first number\"))\n",
    "z=input(\"Enter the type of operation\")\n",
    "result=0\n",
    "try:\n",
    "        \n",
    "        if z.lower()==\"add\":\n",
    "             result=x+y\n",
    "        elif z.lower()=='sub':\n",
    "            result=x-y\n",
    "        elif z.lower()=='mul':\n",
    "            result=x*y\n",
    "        else:\n",
    "            result=x/y\n",
    "            \n",
    "except ZeroDivisionError:\n",
    "        print(\"There is a zero division error\")\n",
    "else:  \n",
    "    print(f'result is {result}')  \n",
    "    \n",
    "    "
   ]
  }
 ],
 "metadata": {
  "kernelspec": {
   "display_name": "Python 3 (ipykernel)",
   "language": "python",
   "name": "python3"
  },
  "language_info": {
   "codemirror_mode": {
    "name": "ipython",
    "version": 3
   },
   "file_extension": ".py",
   "mimetype": "text/x-python",
   "name": "python",
   "nbconvert_exporter": "python",
   "pygments_lexer": "ipython3",
   "version": "3.9.12"
  }
 },
 "nbformat": 4,
 "nbformat_minor": 5
}

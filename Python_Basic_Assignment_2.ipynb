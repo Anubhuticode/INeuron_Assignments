{
 "cells": [
  {
   "cell_type": "markdown",
   "id": "b9f50767",
   "metadata": {},
   "source": [
    "# Python_Basic_Assignment_2"
   ]
  },
  {
   "cell_type": "code",
   "execution_count": null,
   "id": "fef65c9f",
   "metadata": {},
   "outputs": [],
   "source": [
    "1.What are the two values of the Boolean data type? How do you write them?\n",
    "Answer: Boolean data types are: True, False\n",
    "        "
   ]
  },
  {
   "cell_type": "code",
   "execution_count": null,
   "id": "36b3342e",
   "metadata": {},
   "outputs": [],
   "source": [
    "2. What are the three different types of Boolean operators?\n",
    "Answer: three Boolean operators are : and, or, not"
   ]
  },
  {
   "cell_type": "code",
   "execution_count": null,
   "id": "b82ef657",
   "metadata": {},
   "outputs": [],
   "source": [
    "3. Make a list of each Boolean operator truth tables (i.e. every possible combination of Boolean\n",
    "values for the operator and what it evaluate?.\n",
    "Answer: Truth table:\n",
    "         and   Input1 | Input2 | Output\n",
    "               0          0       0                      \n",
    "               0          1       0\n",
    "               1          0       0                     \n",
    "               1          1       1  \n",
    "          or  Input1 | Input2 | Output\n",
    "               0          0       0                     \n",
    "               0          1       1\n",
    "               1          0       1                     \n",
    "               1          1       1                                                  \n",
    "           not Input1 | Output\n",
    "               0          1                        \n",
    "               1          0                                \n",
    "                                                                               \n"
   ]
  },
  {
   "cell_type": "code",
   "execution_count": null,
   "id": "ee0d7a6b",
   "metadata": {},
   "outputs": [],
   "source": [
    "4. What are the values of the following expressions?\n",
    "Answer: (5 > 4) and (3 == 5) : False\n",
    "        not (5 >4) :False\n",
    "        (5 > 4) or (3 == 5) : True\n",
    "        not((5 > 4) or (3 == 5)) : False\n",
    "        (True and True) and (True == False):False\n",
    "        (not False) or (not True):True"
   ]
  },
  {
   "cell_type": "code",
   "execution_count": null,
   "id": "22539238",
   "metadata": {},
   "outputs": [],
   "source": [
    "5. What are the six comparison operators?\n",
    "Answer: 1.greater than >\n",
    "        2.Less than <\n",
    "        3.greater than equal to >=\n",
    "        4.Less than equal to <=\n",
    "        5. equal to =\n",
    "        6.Not equal to !="
   ]
  },
  {
   "cell_type": "code",
   "execution_count": null,
   "id": "0998e024",
   "metadata": {},
   "outputs": [],
   "source": [
    "6. How do you tell the difference between the equal to and assignment operators?Describe a\n",
    "condition and when you would use one.\n",
    "Answer: Equal to operator (==) is use to find the whether the value of two operands or varible ar eequal to each other or not.\n",
    "        It returns True or False\n",
    "        eg. 20==20\n",
    "        \n",
    "        Aassignment operator(=) is used to assign the right hand side value to the left hand side variable.\n",
    "        eg. a=2\n",
    "        "
   ]
  },
  {
   "cell_type": "code",
   "execution_count": null,
   "id": "51cbed1a",
   "metadata": {},
   "outputs": [],
   "source": [
    "7. Identify the three blocks in this code:\n",
    "spam = 0\n",
    "if spam == 10:\n",
    "print('eggs')\n",
    "if spam>5:\n",
    "print('bacon')\n",
    "else:\n",
    "print('ham')\n",
    "print('spam')\n",
    "print('spam')\n",
    "Answer: \n",
    "       ham\n",
    "       spam\n",
    "       spam"
   ]
  },
  {
   "cell_type": "code",
   "execution_count": null,
   "id": "613cd562",
   "metadata": {},
   "outputs": [],
   "source": [
    "8. Write code that prints Hello if 1 is stored in spam, prints Howdy if 2 is stored in spam, and prints\n",
    "Greetings! if anything else is stored in spam.\n",
    "Answer:\n",
    "    spam=0\n",
    "if spam==1:\n",
    "    print('Hello')\n",
    "elif spam ==2 :\n",
    "    print('Howdy')\n",
    "else:\n",
    "    print('Greetings!')\n",
    "        "
   ]
  },
  {
   "cell_type": "code",
   "execution_count": null,
   "id": "d3d735fb",
   "metadata": {},
   "outputs": [],
   "source": [
    "9.If your programme is stuck in an endless loop, what keys you’ll press?\n",
    "Answer: CTR+C to exit an infinite loop."
   ]
  },
  {
   "cell_type": "code",
   "execution_count": null,
   "id": "62aeaa71",
   "metadata": {},
   "outputs": [],
   "source": [
    "10. How can you tell the difference between break and continue?\n",
    "Answer: Break: It is used to break a loop and come out of it. The control is shited to outer statement of the loop.\n",
    "        eg.   for i<5:\n",
    "                 print(\"Data\")\n",
    "                 break\n",
    "        Continue: It i sused to continue a loop or iteration.\n",
    "        eg.    for i<5:\n",
    "                 print(\"Data\")\n",
    "                 continue"
   ]
  },
  {
   "cell_type": "code",
   "execution_count": null,
   "id": "5949ea00",
   "metadata": {},
   "outputs": [],
   "source": [
    "11. In a for loop, what is the difference between range(10), range(0, 10), and range(0, 10, 1)?\n",
    "Answer: All the three will give the same result.\n",
    "        range(a,b,c): It returns a series of number starting from a till b (not include) with a jump of c.\n",
    "            for i in range(0,10,1):\n",
    "                 print(i)\n",
    "Result:\n",
    "0    \n",
    "1\n",
    "2\n",
    "3\n",
    "4\n",
    "5\n",
    "6\n",
    "7\n",
    "8\n",
    "9           \n",
    "    "
   ]
  },
  {
   "cell_type": "code",
   "execution_count": null,
   "id": "286392c6",
   "metadata": {},
   "outputs": [],
   "source": [
    "12.Write a short program that prints the numbers 1 to 10 using a for loop. Then write an equivalent\n",
    "program that prints the numbers 1 to 10 using a while loop.\n",
    "Answer: Using for loop:\n",
    "        for i in range(0,10,1):\n",
    "                 print(i)\n",
    "        Using while loop:\n",
    "            a=0\n",
    "            while a<10:\n",
    "                print(a)\n",
    "                a=a+1\n",
    "            "
   ]
  },
  {
   "cell_type": "code",
   "execution_count": null,
   "id": "e235d41b",
   "metadata": {},
   "outputs": [],
   "source": [
    "13. If you had a function named bacon() inside a module named spam, how would you call it after\n",
    "importing spam?\n",
    "Answer:\n",
    "     import spam\n",
    "     spam.bacon()   "
   ]
  },
  {
   "cell_type": "code",
   "execution_count": null,
   "id": "90c1f22e",
   "metadata": {},
   "outputs": [],
   "source": []
  },
  {
   "cell_type": "code",
   "execution_count": null,
   "id": "18340ef0",
   "metadata": {},
   "outputs": [],
   "source": []
  },
  {
   "cell_type": "code",
   "execution_count": null,
   "id": "5bf00af4",
   "metadata": {},
   "outputs": [],
   "source": []
  },
  {
   "cell_type": "markdown",
   "id": "b0f57db0",
   "metadata": {},
   "source": []
  }
 ],
 "metadata": {
  "kernelspec": {
   "display_name": "Python 3 (ipykernel)",
   "language": "python",
   "name": "python3"
  },
  "language_info": {
   "codemirror_mode": {
    "name": "ipython",
    "version": 3
   },
   "file_extension": ".py",
   "mimetype": "text/x-python",
   "name": "python",
   "nbconvert_exporter": "python",
   "pygments_lexer": "ipython3",
   "version": "3.9.12"
  }
 },
 "nbformat": 4,
 "nbformat_minor": 5
}

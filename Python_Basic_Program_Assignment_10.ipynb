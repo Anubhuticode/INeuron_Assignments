{
 "cells": [
  {
   "cell_type": "markdown",
   "id": "ec9e4a06",
   "metadata": {},
   "source": [
    "# Python_Basic_Program_Assignment_10"
   ]
  },
  {
   "cell_type": "code",
   "execution_count": null,
   "id": "419384be",
   "metadata": {},
   "outputs": [],
   "source": [
    "1. Write a Python program to find sum of elements in list?"
   ]
  },
  {
   "cell_type": "code",
   "execution_count": 3,
   "id": "8b5871e5",
   "metadata": {},
   "outputs": [
    {
     "name": "stdout",
     "output_type": "stream",
     "text": [
      "The sum of digits of this list is:  182\n"
     ]
    }
   ],
   "source": [
    "l=[1,2,3,6,5,8,9,66,45,37]\n",
    "sum=0\n",
    "for i in l:\n",
    "    sum=sum+i\n",
    "print(\"The sum of digits of this list is: \",sum)    "
   ]
  },
  {
   "cell_type": "code",
   "execution_count": null,
   "id": "326c0c25",
   "metadata": {},
   "outputs": [],
   "source": [
    "2. Write a Python program to Multiply all numbers in the list?"
   ]
  },
  {
   "cell_type": "code",
   "execution_count": 6,
   "id": "abe6d2ea",
   "metadata": {},
   "outputs": [
    {
     "name": "stdout",
     "output_type": "stream",
     "text": [
      "The product of digits of this list is:  6\n"
     ]
    }
   ],
   "source": [
    "l=[1,2,3]\n",
    "mul=1\n",
    "for i in l:\n",
    "    mul=mul*i\n",
    "print(\"The product of digits of this list is: \",mul) "
   ]
  },
  {
   "cell_type": "code",
   "execution_count": null,
   "id": "930dfb19",
   "metadata": {},
   "outputs": [],
   "source": [
    "3. Write a Python program to find smallest number in a list?"
   ]
  },
  {
   "cell_type": "code",
   "execution_count": 9,
   "id": "288fff32",
   "metadata": {},
   "outputs": [
    {
     "name": "stdout",
     "output_type": "stream",
     "text": [
      "The smallest element is: 2\n"
     ]
    }
   ],
   "source": [
    "l=[78,34,90,2,96]\n",
    "l.sort()\n",
    "print(\"The smallest element is:\",l[0])"
   ]
  },
  {
   "cell_type": "code",
   "execution_count": null,
   "id": "a2ceb0e0",
   "metadata": {},
   "outputs": [],
   "source": [
    "4. Write a Python program to find largest number in a list?"
   ]
  },
  {
   "cell_type": "code",
   "execution_count": 11,
   "id": "1b8548fe",
   "metadata": {},
   "outputs": [
    {
     "name": "stdout",
     "output_type": "stream",
     "text": [
      "The smallest element is: 96\n"
     ]
    }
   ],
   "source": [
    "l=[78,34,90,2,96,23]\n",
    "l.sort()\n",
    "print(\"The smallest element is:\",l[-1])"
   ]
  },
  {
   "cell_type": "code",
   "execution_count": null,
   "id": "10cc2b79",
   "metadata": {},
   "outputs": [],
   "source": [
    "5. Write a Python program to find second largest number in a list?"
   ]
  },
  {
   "cell_type": "code",
   "execution_count": 12,
   "id": "617846f3",
   "metadata": {},
   "outputs": [
    {
     "name": "stdout",
     "output_type": "stream",
     "text": [
      "The smallest element is: 90\n"
     ]
    }
   ],
   "source": [
    "l=[78,34,90,2,96,23]\n",
    "l.sort()\n",
    "print(\"The smallest element is:\",l[-2])"
   ]
  },
  {
   "cell_type": "code",
   "execution_count": null,
   "id": "ec949076",
   "metadata": {},
   "outputs": [],
   "source": [
    "6. Write a Python program to find N largest elements from a list?"
   ]
  },
  {
   "cell_type": "code",
   "execution_count": 18,
   "id": "a4f6c3af",
   "metadata": {},
   "outputs": [
    {
     "name": "stdout",
     "output_type": "stream",
     "text": [
      "Enter n for n largest elements4\n",
      "[2, 4, 7, 23, 34, 38, 55, 69, 78, 90, 96]\n",
      "The n largest element is: [55, 69, 78, 90, 96]\n"
     ]
    }
   ],
   "source": [
    "n=int(input(\"Enter n for n largest elements\"))\n",
    "l=[78,34,90,2,96,23,4,7,55,38,69]\n",
    "l.sort()\n",
    "le=len(l)\n",
    "print(l)\n",
    "print(\"The n largest element is:\",l[le-n-1:])\n"
   ]
  },
  {
   "cell_type": "code",
   "execution_count": null,
   "id": "08c160e6",
   "metadata": {},
   "outputs": [],
   "source": [
    "7. Write a Python program to print even numbers in a list?"
   ]
  },
  {
   "cell_type": "code",
   "execution_count": 3,
   "id": "97b89f1a",
   "metadata": {},
   "outputs": [
    {
     "name": "stdout",
     "output_type": "stream",
     "text": [
      "[78, 34, 90, 2, 96, 4, 38]\n"
     ]
    }
   ],
   "source": [
    "l=[78,34,90,2,96,23,4,7,55,38,69]\n",
    "even=[]\n",
    "odd=[]\n",
    "for i in l:\n",
    "    if i%2==0:\n",
    "        even.append(i)\n",
    "    else:\n",
    "        odd.append(i)\n",
    "print(even)\n",
    "\n",
    "        "
   ]
  },
  {
   "cell_type": "code",
   "execution_count": null,
   "id": "43b6400b",
   "metadata": {},
   "outputs": [],
   "source": [
    "8. Write a Python program to print odd numbers in a List?"
   ]
  },
  {
   "cell_type": "code",
   "execution_count": 2,
   "id": "9699eec8",
   "metadata": {},
   "outputs": [
    {
     "name": "stdout",
     "output_type": "stream",
     "text": [
      "[23, 7, 55, 69]\n"
     ]
    }
   ],
   "source": [
    "l=[78,34,90,2,96,23,4,7,55,38,69]\n",
    "even=[]\n",
    "odd=[]\n",
    "for i in l:\n",
    "    if i%2==0:\n",
    "        even.append(i)\n",
    "    else:\n",
    "        odd.append(i)\n",
    "print(odd)"
   ]
  },
  {
   "cell_type": "code",
   "execution_count": null,
   "id": "1a5af2ea",
   "metadata": {},
   "outputs": [],
   "source": [
    "9. Write a Python program to Remove empty List from List?"
   ]
  },
  {
   "cell_type": "code",
   "execution_count": 5,
   "id": "c0435478",
   "metadata": {},
   "outputs": [
    {
     "data": {
      "text/plain": [
       "[78, 34, 90, 2, 96, 23, 4, 7, 55, 38, 69]"
      ]
     },
     "execution_count": 5,
     "metadata": {},
     "output_type": "execute_result"
    }
   ],
   "source": [
    "l=[78,34,90,2,96,[],23,4,7,55,[],38,69]\n",
    "l2=[]\n",
    "for i in l:\n",
    "    if i!=[]:\n",
    "        l2.append(i)\n",
    "l2        \n",
    "        "
   ]
  },
  {
   "cell_type": "code",
   "execution_count": null,
   "id": "d8849a89",
   "metadata": {},
   "outputs": [],
   "source": [
    "10. Write a Python program to Cloning or Copying a list?"
   ]
  },
  {
   "cell_type": "code",
   "execution_count": 9,
   "id": "fbbaf6d9",
   "metadata": {},
   "outputs": [
    {
     "name": "stdout",
     "output_type": "stream",
     "text": [
      "The copy of list is : [78, 34, 90, 2, 96, 23, 4, 7, 55, 38, 69]\n"
     ]
    }
   ],
   "source": [
    "l=[78,34,90,2,96,23,4,7,55,38,69]\n",
    "l2=l.copy()\n",
    "print(\"The copy of list is :\",l2)"
   ]
  },
  {
   "cell_type": "code",
   "execution_count": null,
   "id": "c0011455",
   "metadata": {},
   "outputs": [],
   "source": [
    "11. Write a Python program to Count occurrences of an element in a list?"
   ]
  },
  {
   "cell_type": "code",
   "execution_count": 13,
   "id": "2e07a08d",
   "metadata": {},
   "outputs": [
    {
     "name": "stdout",
     "output_type": "stream",
     "text": [
      "Enter the element to find its occurance:5\n",
      "5 has occurance 3 times in list\n"
     ]
    }
   ],
   "source": [
    "l=[78,34,90,2,96,23,5,4,5,5,4,7,55,38,69]\n",
    "e=int(input(\"Enter the element to find its occurance:\"))\n",
    "print(e,\"has occurance {} times in list\".format(l.count(e)))"
   ]
  }
 ],
 "metadata": {
  "kernelspec": {
   "display_name": "Python 3 (ipykernel)",
   "language": "python",
   "name": "python3"
  },
  "language_info": {
   "codemirror_mode": {
    "name": "ipython",
    "version": 3
   },
   "file_extension": ".py",
   "mimetype": "text/x-python",
   "name": "python",
   "nbconvert_exporter": "python",
   "pygments_lexer": "ipython3",
   "version": "3.9.12"
  }
 },
 "nbformat": 4,
 "nbformat_minor": 5
}

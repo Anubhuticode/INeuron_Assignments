{
 "cells": [
  {
   "cell_type": "markdown",
   "id": "5f96afb7",
   "metadata": {},
   "source": [
    "# Python_Basic_Program_Assignment_16"
   ]
  },
  {
   "cell_type": "markdown",
   "id": "1cb71e63",
   "metadata": {},
   "source": [
    "1. Write a function that stutters a word as if someone is struggling to read it. The\n",
    "first two letters are repeated twice with an ellipsis ... and space after each, and then the word is pronounced\n",
    "with a question mark ?.\n",
    "Examples stutter('incredible') ➞ 'in... in... incredible?' stutter('enthusiastic') ➞ 'en... en... enthusiastic?'\n",
    "stutter('outstanding') ➞ 'ou... ou... outstanding?'"
   ]
  },
  {
   "cell_type": "code",
   "execution_count": 2,
   "id": "6c88b77a",
   "metadata": {},
   "outputs": [
    {
     "name": "stdout",
     "output_type": "stream",
     "text": [
      "Enter Word : Neha\n",
      "Ne...Ne...Neha?\n"
     ]
    }
   ],
   "source": [
    "def stutters(word):\n",
    "    return (2*(word[:2]+'...'))+word+'?'\n",
    "word=input('Enter Word : ')\n",
    "print(stutters(word))"
   ]
  },
  {
   "cell_type": "code",
   "execution_count": null,
   "id": "332e97c0",
   "metadata": {},
   "outputs": [],
   "source": [
    "2.  Create a function that takes an angle in radians and returns the corresponding\n",
    "angle in degrees rounded to one decimal place.\n",
    "Examples radians_to_degrees(1) ➞ 57.3 radians_to_degrees(20) ➞ 1145.9 radians_to_degrees(50) ➞ 2864.8"
   ]
  },
  {
   "cell_type": "code",
   "execution_count": 6,
   "id": "02d35ab1",
   "metadata": {},
   "outputs": [
    {
     "name": "stdout",
     "output_type": "stream",
     "text": [
      "Enter angle in radian:45\n",
      "Angle in degree is: 2578.3\n"
     ]
    }
   ],
   "source": [
    "import math\n",
    "def fun(r):\n",
    "    degree=r*180/math.pi\n",
    "    return f'{degree:.1f}'\n",
    "\n",
    "r=float(input(\"Enter angle in radian:\"))\n",
    "print(\"Angle in degree is:\",fun(r))\n",
    "\n"
   ]
  },
  {
   "cell_type": "code",
   "execution_count": null,
   "id": "27971de0",
   "metadata": {},
   "outputs": [],
   "source": [
    "3. In this challenge, establish if a given integer num is a Curzon number. If 1 plus\n",
    "\n",
    "2 elevated to num is exactly divisible by 1 plus 2 multiplied by num, then num is a Curzon number. \n",
    "Given a non-negative integer num, implement a function that returns True if num is a Curzon number, \n",
    "r False otherwise. Examples is_curzon(5) ➞ True 2 ** 5 + 1 = 33 2 * 5 + 1 = 11 33 is a multiple of \n",
    "11 is_curzon(10) ➞ False 2 ** 10 + 1 = 1025 2 * 10 + 1 = 21 1025 is not a multiple of 21 is_curzon(14) ➞ True \n",
    "2 ** 14 + 1 = 16385 2 * 14 + 1 = 29 16385 is a multiple of 29"
   ]
  },
  {
   "cell_type": "code",
   "execution_count": 12,
   "id": "46848ef4",
   "metadata": {},
   "outputs": [
    {
     "name": "stdout",
     "output_type": "stream",
     "text": [
      "Enter number:5\n"
     ]
    },
    {
     "data": {
      "text/plain": [
       "'5 is curzon number'"
      ]
     },
     "execution_count": 12,
     "metadata": {},
     "output_type": "execute_result"
    }
   ],
   "source": [
    "def curzon(n):\n",
    "    power,product=0,0\n",
    "    #find 2**n+1\n",
    "    power=2**n+1\n",
    "    product=2*n+1\n",
    "    if power%product==0:\n",
    "        return f\"{n:.0f} is curzon number\"\n",
    "    else:\n",
    "        return f'{n:.0f} is not a curzon number'\n",
    "r=float(input(\"Enter number:\"))\n",
    "curzon(r)\n",
    "    \n",
    "    "
   ]
  },
  {
   "cell_type": "code",
   "execution_count": null,
   "id": "33551b74",
   "metadata": {},
   "outputs": [],
   "source": [
    "4. Given the side length x find the area of a hexagon.\n",
    "\n",
    "Examples area_of_hexagon(1) ➞ 2.6 area_of_hexagon(2) ➞ 10.4 area_of_hexagon(3) ➞ 23.4"
   ]
  },
  {
   "cell_type": "code",
   "execution_count": 9,
   "id": "d637e33d",
   "metadata": {},
   "outputs": [
    {
     "name": "stdout",
     "output_type": "stream",
     "text": [
      "Enter side1\n",
      "Area is: 2.6\n"
     ]
    }
   ],
   "source": [
    "import math\n",
    "def fun2(n):\n",
    "    Area=(3*math.sqrt(3)/2)*(n**2)\n",
    "    return f'{Area:.1f}'\n",
    "r=float(input(\"Enter side\"))\n",
    "print(\"Area is:\",fun2(r))\n",
    "\n",
    "\n",
    "    "
   ]
  },
  {
   "cell_type": "code",
   "execution_count": null,
   "id": "91324772",
   "metadata": {},
   "outputs": [],
   "source": [
    "5. Create a function that returns a base-2 (binary) representation of a base-10\n",
    "\n",
    "(decimal) string number. To convert is simple: ((2) means base-2 and (10) means base-10) 010101001(2) = 1 + 8 + 32 + 128.\n",
    "    Going from right to left, the value of the most right bit is 1, now from that every bit to the left will be x2 the value,\n",
    "    value of an 8 bit binary numbers are (256, 128, 64, 32, 16, 8, 4, 2, 1). \n",
    "    Examples binary(1) ➞ '1' 11 = 1 binary(5) ➞ '101' 11 + 14 = 5 binary(10) ➞ '1010' 12 + 1*8 = 10"
   ]
  },
  {
   "cell_type": "code",
   "execution_count": 13,
   "id": "cbe5a26d",
   "metadata": {},
   "outputs": [
    {
     "name": "stdout",
     "output_type": "stream",
     "text": [
      "0\n",
      "1\n",
      "10\n",
      "11\n",
      "100\n",
      "101\n",
      "110\n",
      "111\n",
      "1000\n",
      "1001\n",
      "1010\n",
      "1011\n",
      "1100\n",
      "1101\n",
      "1110\n",
      "1111\n",
      "10000\n",
      "10001\n",
      "10010\n",
      "10011\n",
      "10100\n",
      "10101\n",
      "10110\n",
      "10111\n",
      "11000\n",
      "11001\n",
      "11010\n",
      "11011\n",
      "11100\n",
      "11101\n",
      "11110\n",
      "11111\n",
      "100000\n",
      "100001\n",
      "100010\n",
      "100011\n",
      "100100\n",
      "100101\n",
      "100110\n",
      "100111\n",
      "101000\n",
      "101001\n",
      "101010\n",
      "101011\n",
      "101100\n",
      "101101\n",
      "101110\n",
      "101111\n",
      "110000\n",
      "110001\n"
     ]
    }
   ],
   "source": [
    "def decimalToBinary(n):\n",
    "    return bin(n).replace(\"0b\", \"\")\n",
    "   \n",
    "for i in range(0,50):\n",
    "    print(decimalToBinary(i))"
   ]
  },
  {
   "cell_type": "code",
   "execution_count": null,
   "id": "2c5991ea",
   "metadata": {},
   "outputs": [],
   "source": []
  },
  {
   "cell_type": "code",
   "execution_count": null,
   "id": "aa5857aa",
   "metadata": {},
   "outputs": [],
   "source": []
  }
 ],
 "metadata": {
  "kernelspec": {
   "display_name": "Python 3 (ipykernel)",
   "language": "python",
   "name": "python3"
  },
  "language_info": {
   "codemirror_mode": {
    "name": "ipython",
    "version": 3
   },
   "file_extension": ".py",
   "mimetype": "text/x-python",
   "name": "python",
   "nbconvert_exporter": "python",
   "pygments_lexer": "ipython3",
   "version": "3.9.12"
  }
 },
 "nbformat": 4,
 "nbformat_minor": 5
}

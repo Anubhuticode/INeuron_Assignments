{
 "cells": [
  {
   "cell_type": "markdown",
   "id": "1894a003",
   "metadata": {},
   "source": [
    "# Python_Basic_Program_Assignment_2"
   ]
  },
  {
   "cell_type": "code",
   "execution_count": null,
   "id": "397f9f2a",
   "metadata": {},
   "outputs": [],
   "source": [
    "1. Write a Python program to convert kilometers to miles?"
   ]
  },
  {
   "cell_type": "code",
   "execution_count": 2,
   "id": "c9aefe86",
   "metadata": {},
   "outputs": [
    {
     "name": "stdout",
     "output_type": "stream",
     "text": [
      "Enter a Kilometer:100\n",
      "The value of 100 kilometer is 62.0 mile\n"
     ]
    }
   ],
   "source": [
    "k=int(input('Enter a Kilometer:'))\n",
    "m=k*0.62\n",
    "print(f'The value of {k} kilometer is {m} mile')"
   ]
  },
  {
   "cell_type": "code",
   "execution_count": null,
   "id": "c45ae0ef",
   "metadata": {},
   "outputs": [],
   "source": [
    "2. Write a Python program to convert Celsius to Fahrenheit?"
   ]
  },
  {
   "cell_type": "code",
   "execution_count": 4,
   "id": "0d2f3c7b",
   "metadata": {},
   "outputs": [
    {
     "name": "stdout",
     "output_type": "stream",
     "text": [
      "Enter the temperature in Celsius :100\n",
      "The value of 100 celsius is 212.0 fahrenheit\n"
     ]
    }
   ],
   "source": [
    "c=int(input('Enter the temperature in Celsius :'))\n",
    "f=c*1.8+32\n",
    "print(f'The value of {c} celsius is {f} fahrenheit')"
   ]
  },
  {
   "cell_type": "code",
   "execution_count": null,
   "id": "60562193",
   "metadata": {},
   "outputs": [],
   "source": [
    "3. Write a Python program to display calendar?"
   ]
  },
  {
   "cell_type": "code",
   "execution_count": 11,
   "id": "0dc200a2",
   "metadata": {},
   "outputs": [
    {
     "name": "stdout",
     "output_type": "stream",
     "text": [
      "Enter the year:2022\n",
      "                                  2022\n",
      "\n",
      "      January                   February                   March\n",
      "Mo Tu We Th Fr Sa Su      Mo Tu We Th Fr Sa Su      Mo Tu We Th Fr Sa Su\n",
      "                1  2          1  2  3  4  5  6          1  2  3  4  5  6\n",
      " 3  4  5  6  7  8  9       7  8  9 10 11 12 13       7  8  9 10 11 12 13\n",
      "10 11 12 13 14 15 16      14 15 16 17 18 19 20      14 15 16 17 18 19 20\n",
      "17 18 19 20 21 22 23      21 22 23 24 25 26 27      21 22 23 24 25 26 27\n",
      "24 25 26 27 28 29 30      28                        28 29 30 31\n",
      "31\n",
      "\n",
      "       April                      May                       June\n",
      "Mo Tu We Th Fr Sa Su      Mo Tu We Th Fr Sa Su      Mo Tu We Th Fr Sa Su\n",
      "             1  2  3                         1             1  2  3  4  5\n",
      " 4  5  6  7  8  9 10       2  3  4  5  6  7  8       6  7  8  9 10 11 12\n",
      "11 12 13 14 15 16 17       9 10 11 12 13 14 15      13 14 15 16 17 18 19\n",
      "18 19 20 21 22 23 24      16 17 18 19 20 21 22      20 21 22 23 24 25 26\n",
      "25 26 27 28 29 30         23 24 25 26 27 28 29      27 28 29 30\n",
      "                          30 31\n",
      "\n",
      "        July                     August                  September\n",
      "Mo Tu We Th Fr Sa Su      Mo Tu We Th Fr Sa Su      Mo Tu We Th Fr Sa Su\n",
      "             1  2  3       1  2  3  4  5  6  7                1  2  3  4\n",
      " 4  5  6  7  8  9 10       8  9 10 11 12 13 14       5  6  7  8  9 10 11\n",
      "11 12 13 14 15 16 17      15 16 17 18 19 20 21      12 13 14 15 16 17 18\n",
      "18 19 20 21 22 23 24      22 23 24 25 26 27 28      19 20 21 22 23 24 25\n",
      "25 26 27 28 29 30 31      29 30 31                  26 27 28 29 30\n",
      "\n",
      "      October                   November                  December\n",
      "Mo Tu We Th Fr Sa Su      Mo Tu We Th Fr Sa Su      Mo Tu We Th Fr Sa Su\n",
      "                1  2          1  2  3  4  5  6                1  2  3  4\n",
      " 3  4  5  6  7  8  9       7  8  9 10 11 12 13       5  6  7  8  9 10 11\n",
      "10 11 12 13 14 15 16      14 15 16 17 18 19 20      12 13 14 15 16 17 18\n",
      "17 18 19 20 21 22 23      21 22 23 24 25 26 27      19 20 21 22 23 24 25\n",
      "24 25 26 27 28 29 30      28 29 30                  26 27 28 29 30 31\n",
      "31\n",
      "\n"
     ]
    }
   ],
   "source": [
    "import calendar \n",
    "yy=int(input('Enter the year:'))\n",
    "print(calendar.calendar(yy))"
   ]
  },
  {
   "cell_type": "code",
   "execution_count": null,
   "id": "52295d9f",
   "metadata": {},
   "outputs": [],
   "source": [
    "4. Write a Python program to solve quadratic equation? "
   ]
  },
  {
   "cell_type": "code",
   "execution_count": 30,
   "id": "94877c3f",
   "metadata": {},
   "outputs": [
    {
     "name": "stdout",
     "output_type": "stream",
     "text": [
      "Enter a 5\n",
      "Enter b 3\n",
      "Enter c 2\n",
      "Rooots are: (-0.3, '+i', 5.5677643628300215) (-0.3, '+i', 5.5677643628300215)\n"
     ]
    }
   ],
   "source": [
    "from  math import sqrt\n",
    "a=int(input('Enter a '))\n",
    "b=int(input('Enter b '))\n",
    "c=int(input('Enter c '))\n",
    "d=b**2-4*a*c\n",
    "if d>0:\n",
    "    x=(-1*b-math.sqrt(abs(d)))/(2*a)\n",
    "    y=(-1*b+math.sqrt(abs(d)))/(2*a)\n",
    "    print(\"Rooots are:\",x,y)\n",
    "elif d==0:\n",
    "    x=(-1*b)/(2*a)\n",
    "    print(\"Rooots are:\",x,x)\n",
    "else:\n",
    "    x=(-b/(2*a),\"+i\",math.sqrt(abs(d)))\n",
    "    y=(-b/(2*a),\"+i\",math.sqrt(abs(d)))\n",
    "    print(\"Rooots are:\",x,y)\n",
    "    \n",
    "   \n",
    "\n",
    "    \n"
   ]
  },
  {
   "cell_type": "code",
   "execution_count": null,
   "id": "d4dd3418",
   "metadata": {},
   "outputs": [],
   "source": [
    "5. Write a Python program to swap two variables without temp variable?"
   ]
  },
  {
   "cell_type": "code",
   "execution_count": 7,
   "id": "4f9e9357",
   "metadata": {},
   "outputs": [
    {
     "name": "stdout",
     "output_type": "stream",
     "text": [
      "Enter First number:3\n",
      "Enter Second number:2\n",
      "First number: 2\n",
      "Second number: 3\n"
     ]
    }
   ],
   "source": [
    "a=int(input('Enter First number:'))\n",
    "b=int(input('Enter Second number:'))\n",
    "a=a+b\n",
    "b=a-b\n",
    "a=a-b\n",
    "print('First number:',a)\n",
    "print('Second number:',b)\n"
   ]
  },
  {
   "cell_type": "code",
   "execution_count": 19,
   "id": "ff3c2aed",
   "metadata": {},
   "outputs": [
    {
     "data": {
      "text/plain": [
       "'-1.50.25j'"
      ]
     },
     "execution_count": 19,
     "metadata": {},
     "output_type": "execute_result"
    }
   ],
   "source": [
    "d=1\n",
    "from  math import sqrt\n",
    "x1=str((-1*b)/2)+str(sqrt(d)/(2*a))+'j'\n",
    "x1"
   ]
  }
 ],
 "metadata": {
  "kernelspec": {
   "display_name": "Python 3 (ipykernel)",
   "language": "python",
   "name": "python3"
  },
  "language_info": {
   "codemirror_mode": {
    "name": "ipython",
    "version": 3
   },
   "file_extension": ".py",
   "mimetype": "text/x-python",
   "name": "python",
   "nbconvert_exporter": "python",
   "pygments_lexer": "ipython3",
   "version": "3.9.12"
  }
 },
 "nbformat": 4,
 "nbformat_minor": 5
}

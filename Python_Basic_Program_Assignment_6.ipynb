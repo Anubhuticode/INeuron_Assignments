{
 "cells": [
  {
   "cell_type": "markdown",
   "id": "a79a7b05",
   "metadata": {},
   "source": [
    "# Python_Basic_Program_Assignment_6"
   ]
  },
  {
   "cell_type": "code",
   "execution_count": null,
   "id": "de08d847",
   "metadata": {},
   "outputs": [],
   "source": [
    "1. Write a Python Program to Display Fibonacci Sequence Using Recursion?"
   ]
  },
  {
   "cell_type": "code",
   "execution_count": 3,
   "id": "4af1e84f",
   "metadata": {},
   "outputs": [
    {
     "name": "stdout",
     "output_type": "stream",
     "text": [
      "Enter a number10\n",
      "0\n",
      "1\n",
      "1\n",
      "2\n",
      "3\n",
      "5\n",
      "8\n",
      "13\n",
      "21\n",
      "34\n"
     ]
    }
   ],
   "source": [
    "def fib(n):\n",
    "    if n<=1:\n",
    "        return n    \n",
    "    else:\n",
    "        return (fib(n-1)+fib(n-2))\n",
    "    \n",
    "x=int(input(\"Enter a number\"))\n",
    "if x<=0:\n",
    "    print(\"Negative number\")\n",
    "else:\n",
    "    for i in range(x):\n",
    "        print(fib(i))"
   ]
  },
  {
   "cell_type": "code",
   "execution_count": null,
   "id": "65990236",
   "metadata": {},
   "outputs": [],
   "source": [
    "2. Write a Python Program to Find Factorial of Number Using Recursion?"
   ]
  },
  {
   "cell_type": "code",
   "execution_count": 2,
   "id": "00414233",
   "metadata": {},
   "outputs": [
    {
     "name": "stdout",
     "output_type": "stream",
     "text": [
      "Enter a number-6\n",
      "Negative number don't have factorial'\n"
     ]
    }
   ],
   "source": [
    "def fact(n):\n",
    "    if n==1:\n",
    "        return 1\n",
    "    else:\n",
    "        return fact(n-1)*n\n",
    "x=int(input(\"Enter a number\"))\n",
    "if x<0:\n",
    "    print(\"Negative number don\\'t have factorial'\")\n",
    "elif x==0:\n",
    "    print(\"Factorial in \", 1)\n",
    "else:\n",
    "    print(\"Factorial is \",fact(x))\n",
    "    \n",
    "  \n",
    "    \n",
    "\n",
    "    "
   ]
  },
  {
   "cell_type": "code",
   "execution_count": null,
   "id": "a9fec4d5",
   "metadata": {},
   "outputs": [],
   "source": [
    "3. Write a Python Program to calculate your Body Mass Index?"
   ]
  },
  {
   "cell_type": "code",
   "execution_count": 5,
   "id": "77d41b0c",
   "metadata": {},
   "outputs": [
    {
     "name": "stdout",
     "output_type": "stream",
     "text": [
      "Enter a Weight in kg:100\n",
      "Enter a Height in meter25\n",
      "The BMI is 20.0\n"
     ]
    }
   ],
   "source": [
    "import math\n",
    "x=int(input(\"Enter a Weight in kg:\"))\n",
    "y=int(input(\"Enter a Height in meter\"))\n",
    "z=x/math.sqrt(y)\n",
    "print(f\"The BMI is {z}\")"
   ]
  },
  {
   "cell_type": "code",
   "execution_count": null,
   "id": "59ddc3fe",
   "metadata": {},
   "outputs": [],
   "source": [
    "4. Write a Python Program to calculate the natural logarithm of any number?"
   ]
  },
  {
   "cell_type": "code",
   "execution_count": 2,
   "id": "732240f9",
   "metadata": {},
   "outputs": [
    {
     "name": "stdout",
     "output_type": "stream",
     "text": [
      "Enter a number:100\n",
      "The natural log value of 100 is 4.605170185988092\n"
     ]
    }
   ],
   "source": [
    "import math\n",
    "x=int(input(\"Enter a number:\"))\n",
    "y=math.log(x)\n",
    "print(f'The natural log value of {x} is {y}')"
   ]
  },
  {
   "cell_type": "code",
   "execution_count": null,
   "id": "30e5507d",
   "metadata": {},
   "outputs": [],
   "source": [
    "5. Write a Python Program for cube sum of first n natural numbers?"
   ]
  },
  {
   "cell_type": "code",
   "execution_count": 4,
   "id": "9f968ed4",
   "metadata": {},
   "outputs": [
    {
     "name": "stdout",
     "output_type": "stream",
     "text": [
      "Enter a number:3\n",
      "The cube sum till 3 is 36\n"
     ]
    }
   ],
   "source": [
    "x=int(input(\"Enter a number:\"))\n",
    "sum=0\n",
    "for i in range(1,x+1):\n",
    "    sum =sum+i**3\n",
    "print(f'The cube sum till {x} is {sum}')    \n",
    "    "
   ]
  },
  {
   "cell_type": "code",
   "execution_count": null,
   "id": "437b5cc5",
   "metadata": {},
   "outputs": [],
   "source": []
  }
 ],
 "metadata": {
  "kernelspec": {
   "display_name": "Python 3 (ipykernel)",
   "language": "python",
   "name": "python3"
  },
  "language_info": {
   "codemirror_mode": {
    "name": "ipython",
    "version": 3
   },
   "file_extension": ".py",
   "mimetype": "text/x-python",
   "name": "python",
   "nbconvert_exporter": "python",
   "pygments_lexer": "ipython3",
   "version": "3.9.12"
  }
 },
 "nbformat": 4,
 "nbformat_minor": 5
}

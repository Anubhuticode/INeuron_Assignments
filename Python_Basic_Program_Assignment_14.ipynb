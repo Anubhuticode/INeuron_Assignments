{
 "cells": [
  {
   "cell_type": "markdown",
   "id": "da725e96",
   "metadata": {},
   "source": [
    "# Python_Basic_Program_Assignment_14"
   ]
  },
  {
   "cell_type": "markdown",
   "id": "9b58fab0",
   "metadata": {},
   "source": [
    "1. Define a class with a generator which can iterate the numbers, which are divisible by\n",
    "7, between a given range 0 and n."
   ]
  },
  {
   "cell_type": "code",
   "execution_count": 24,
   "id": "e9c5b659",
   "metadata": {},
   "outputs": [
    {
     "name": "stdout",
     "output_type": "stream",
     "text": [
      "Enter the upper limit of range: 100\n",
      "Number divisible by 7 are:\n",
      "[0, 7, 14, 21, 28, 35, 42, 49, 56, 63, 70, 77, 84, 91, 98]\n"
     ]
    }
   ],
   "source": [
    "class div:\n",
    "    def __init__(self,num):\n",
    "        self.num=num\n",
    "        \n",
    "    def div_check(self):\n",
    "        l=[]\n",
    "        for i in range(0,self.num+1):\n",
    "            if i%7==0:\n",
    "                l.append(i)\n",
    "        yield l      \n",
    "    \n",
    "a=int(input(\"Enter the upper limit of range: \"))\n",
    "ob_div=div(a)\n",
    "print(\"Number divisible by 7 are:\")\n",
    "for i in ob_div.div_check():\n",
    "    print(i)"
   ]
  },
  {
   "cell_type": "markdown",
   "id": "a815386e",
   "metadata": {},
   "source": [
    "2. Write a program to compute the frequency of the words from the input. The output \n",
    "should output after sorting the key alphanumerically. Suppose the following input is supplied to the program: New to Python or choosing between Python 2 and Python 3? Read Python 2 or Python 3. Then, the output should be: 2:2 3.:1 3?:1 New:1 Python:5 Read:1 and:1 between:1 choosing:1 or:2 to:1"
   ]
  },
  {
   "cell_type": "code",
   "execution_count": 32,
   "id": "f20dd63c",
   "metadata": {},
   "outputs": [
    {
     "name": "stdout",
     "output_type": "stream",
     "text": [
      "Enter the sentence  New to Python or choosing between Python 2 and Python 3? Read Python 2 or Python 3\n",
      "2:2\n",
      "3:1\n",
      "3?:1\n",
      "New:1\n",
      "Python:5\n",
      "Read:1\n",
      "and:1\n",
      "between:1\n",
      "choosing:1\n",
      "or:2\n",
      "to:1\n"
     ]
    }
   ],
   "source": [
    "Sentence = input('Enter the sentence ').split()\n",
    "word = sorted(set(Sentence))     # sort alphbetically\n",
    "\n",
    "for i in word:\n",
    "    print(\"{}:{}\".format(i,Sentence.count(i)))"
   ]
  },
  {
   "cell_type": "markdown",
   "id": "43ad7903",
   "metadata": {},
   "source": [
    "3. Define a class Person and its two child classes: Male and Female. All classes have a\n",
    "method 'getGender' which can print 'Male' for Male class and 'Female' for Female class."
   ]
  },
  {
   "cell_type": "code",
   "execution_count": 6,
   "id": "f022bd64",
   "metadata": {},
   "outputs": [
    {
     "name": "stdout",
     "output_type": "stream",
     "text": [
      "Male\n",
      "Female\n"
     ]
    }
   ],
   "source": [
    "class Person:\n",
    "    def getGender(self):\n",
    "        return \"None\"\n",
    "class Male(Person):\n",
    "    def getGender(self):\n",
    "        return \"Male\"\n",
    "class Female(Person):\n",
    "    def getGender(self):\n",
    "        return \"Female\"\n",
    "ob_male=Male()\n",
    "ob_female=Female()\n",
    "print(ob_male.getGender())\n",
    "print(ob_female.getGender())"
   ]
  },
  {
   "cell_type": "markdown",
   "id": "63bd17ba",
   "metadata": {},
   "source": [
    "4. Please write a program to generate all sentences where subject is in [\"I\", \"You\"] and verb is in ['Play', \"Love\"] and the object is in [\"Hockey\",\"Football\"]"
   ]
  },
  {
   "cell_type": "code",
   "execution_count": 2,
   "id": "b5a8cd74",
   "metadata": {},
   "outputs": [
    {
     "name": "stdout",
     "output_type": "stream",
     "text": [
      "I Play Hockey\n",
      "I Play Football\n",
      "I Love Hockey\n",
      "I Love Football\n",
      "You Play Hockey\n",
      "You Play Football\n",
      "You Love Hockey\n",
      "You Love Football\n"
     ]
    }
   ],
   "source": [
    "sub=[\"I\", \"You\"]\n",
    "verb=['Play', \"Love\"]\n",
    "object=[\"Hockey\",\"Football\"]\n",
    "str_list=[(su+' '+vb+' '+ob) for su in sub for vb in verb for ob in object]\n",
    "for i in str_list:\n",
    "    print(i)"
   ]
  },
  {
   "cell_type": "markdown",
   "id": "5aaead18",
   "metadata": {},
   "source": [
    "5. Please write a program to compress and decompress the string \"hello world!hello world!hello world!hello world!\""
   ]
  },
  {
   "cell_type": "code",
   "execution_count": 1,
   "id": "d23195fc",
   "metadata": {},
   "outputs": [
    {
     "name": "stdout",
     "output_type": "stream",
     "text": [
      "b'x\\x9c\\xcbH\\xcd\\xc9\\xc9W(\\xcf/\\xcaIQ\\xcc\\x00\\xb1\\x91\\x98\\n\\x98l\\x00\\xb2\\xe9\\x11\\xd5'\n",
      "b'hello world!helloworld!hello world!hello world!'\n"
     ]
    }
   ],
   "source": [
    "import zlib\n",
    "s=\"hello world!helloworld!hello world!hello world!\"\n",
    "a = bytes(s, 'utf-8')\n",
    "b=zlib.compress(a)\n",
    "print(b)\n",
    "c=zlib.decompress(b)\n",
    "print(c)\n"
   ]
  },
  {
   "cell_type": "markdown",
   "id": "00d4e70d",
   "metadata": {},
   "source": [
    "6. Please write a binary search function which searches an item in a sorted list. The\n",
    "function should return the index of element to be searched in the list."
   ]
  },
  {
   "cell_type": "code",
   "execution_count": 33,
   "id": "d6048a20",
   "metadata": {},
   "outputs": [
    {
     "name": "stdout",
     "output_type": "stream",
     "text": [
      "First occurrence of 4 is present at 2\n"
     ]
    }
   ],
   "source": [
    "from bisect import bisect_left\n",
    "  \n",
    "def BinarySearch(a, x):\n",
    "    i = bisect_left(a, x)\n",
    "    if i != len(a) and a[i] == x:\n",
    "        return i\n",
    "    else:\n",
    "        return -1 \n",
    "\n",
    "a = [1, 2, 4, 4, 8]\n",
    "x = int(4)\n",
    "res = BinarySearch(a, x)\n",
    "if res == -1:\n",
    "    print(x, \"is absent\")\n",
    "else:\n",
    "    print(\"First occurrence of\", x, \"is present at\", res)"
   ]
  },
  {
   "cell_type": "markdown",
   "id": "b070ee33",
   "metadata": {},
   "source": []
  }
 ],
 "metadata": {
  "kernelspec": {
   "display_name": "Python 3 (ipykernel)",
   "language": "python",
   "name": "python3"
  },
  "language_info": {
   "codemirror_mode": {
    "name": "ipython",
    "version": 3
   },
   "file_extension": ".py",
   "mimetype": "text/x-python",
   "name": "python",
   "nbconvert_exporter": "python",
   "pygments_lexer": "ipython3",
   "version": "3.9.12"
  }
 },
 "nbformat": 4,
 "nbformat_minor": 5
}

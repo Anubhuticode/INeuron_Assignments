{
 "cells": [
  {
   "cell_type": "markdown",
   "id": "1310889a",
   "metadata": {},
   "source": [
    "# Python_Basic_Program_Assignment_15"
   ]
  },
  {
   "cell_type": "markdown",
   "id": "77274930",
   "metadata": {},
   "source": [
    "1. Please write a program using generator to print the numbers which can be divisible by 5 and\n",
    "7 between 0 and n in comma separated form while n is input by console. \n",
    "Example: If the following n is given as input to the program: 100 Then, the output of the program should be: 0,35,70"
   ]
  },
  {
   "cell_type": "code",
   "execution_count": 10,
   "id": "0e11d153",
   "metadata": {},
   "outputs": [
    {
     "name": "stdout",
     "output_type": "stream",
     "text": [
      "Enter number:100\n",
      "0,35,70\n"
     ]
    }
   ],
   "source": [
    "def gen(n):\n",
    "    for i in range(0,n+1):\n",
    "        if i%5==0 and i%7==0:\n",
    "            yield i\n",
    "n=int(input(\"Enter number:\"))\n",
    "num=[]\n",
    "for i in gen(n):\n",
    "    num.append(str(i))\n",
    "print(','.join(num))    \n",
    "    "
   ]
  },
  {
   "cell_type": "markdown",
   "id": "246e931a",
   "metadata": {},
   "source": [
    "2. Please write a program using generator to print the even numbers between 0 and n in comma\n",
    "separated form while n is input by console. Example: If the following n is given as input to the program: 10 Then, the output of the program should be: 0,2,4,6,8,10"
   ]
  },
  {
   "cell_type": "code",
   "execution_count": 14,
   "id": "bd7a122f",
   "metadata": {},
   "outputs": [
    {
     "name": "stdout",
     "output_type": "stream",
     "text": [
      "Enter number:10\n",
      "0,2,4,6,8,10\n"
     ]
    }
   ],
   "source": [
    "def gen1(n):\n",
    "    for i in range(0,n+1):\n",
    "        if i%2==0:\n",
    "            yield i\n",
    "            \n",
    "n=int(input(\"Enter number:\"))\n",
    "num=[]\n",
    "for i in gen1(n):\n",
    "    num.append(str(i))\n",
    "print(','.join(num))               "
   ]
  },
  {
   "cell_type": "markdown",
   "id": "6b3fad2b",
   "metadata": {},
   "source": [
    "3. The Fibonacci Sequence is computed based on the following formula:\n",
    "f(n)=0 if n=0 f(n)=1 if n=1 f(n)=f(n-1)+f(n-2) if n > 1 Please write a program using list comprehension to print the Fibonacci Sequence in comma separated form with a given n input by console. Example: If the following n is given as input to the program: 7\n",
    "Then, the output of the program should be: 0,1,1,2,3,5,8,13"
   ]
  },
  {
   "cell_type": "code",
   "execution_count": 1,
   "id": "d072cebf",
   "metadata": {},
   "outputs": [
    {
     "name": "stdout",
     "output_type": "stream",
     "text": [
      "Enter terms:5\n",
      "0,1,1,2,3\n"
     ]
    }
   ],
   "source": [
    "def fib(n):\n",
    "    if n==0:\n",
    "        return 0\n",
    "    if n==1:\n",
    "        return 1\n",
    "    else:\n",
    "        return fib(n-1)+fib(n-2)\n",
    "n=int(input(\"Enter terms:\"))\n",
    "values=[str(fib(x)) for x in range(0,n)]\n",
    "print(','.join(values))\n",
    "      "
   ]
  },
  {
   "cell_type": "markdown",
   "id": "24abff6f",
   "metadata": {},
   "source": [
    "4. Assuming that we have some email addresses in the 'username@companyname.com' format,\n",
    "please write program to print the user name of a given email address. Both user names and company names are composed of letters only. Example: If the following email address is given as input to the program: john@google.com Then, the output of the program should be: john"
   ]
  },
  {
   "cell_type": "code",
   "execution_count": 3,
   "id": "1d0116fa",
   "metadata": {},
   "outputs": [
    {
     "name": "stdout",
     "output_type": "stream",
     "text": [
      "Enter your email idneha@gmail.com\n",
      "The Name of user is : neha\n",
      "The company name is : gmail\n"
     ]
    }
   ],
   "source": [
    "email_id=input(\"Enter your email id\").split('@')\n",
    "print(\"The Name of user is :\",email_id[0])\n",
    "s=email_id[1].split('.')\n",
    "print(\"The company name is :\",s[0])"
   ]
  },
  {
   "cell_type": "markdown",
   "id": "8388d6b3",
   "metadata": {},
   "source": [
    "5. Define a class named Shape and its subclass Square. The Square class has an init function\n",
    "which takes a length as argument. Both classes have a area function which can print the area of the shape where Shape's area is 0 by default."
   ]
  },
  {
   "cell_type": "code",
   "execution_count": 7,
   "id": "d91a6e6b",
   "metadata": {},
   "outputs": [
    {
     "data": {
      "text/plain": [
       "81"
      ]
     },
     "execution_count": 7,
     "metadata": {},
     "output_type": "execute_result"
    }
   ],
   "source": [
    "class Shape:\n",
    "    def __init__(self):\n",
    "        pass\n",
    "    def area(self):\n",
    "        return 0\n",
    "class Square(Shape):\n",
    "    def __init__(self,l):\n",
    "        self.length=l\n",
    "    def area(self):\n",
    "        return self.length*self.length\n",
    "    \n",
    "obj=Square(9)\n",
    "obj.area()\n",
    "        "
   ]
  },
  {
   "cell_type": "code",
   "execution_count": null,
   "id": "0e3a8a3e",
   "metadata": {},
   "outputs": [],
   "source": []
  }
 ],
 "metadata": {
  "kernelspec": {
   "display_name": "Python 3 (ipykernel)",
   "language": "python",
   "name": "python3"
  },
  "language_info": {
   "codemirror_mode": {
    "name": "ipython",
    "version": 3
   },
   "file_extension": ".py",
   "mimetype": "text/x-python",
   "name": "python",
   "nbconvert_exporter": "python",
   "pygments_lexer": "ipython3",
   "version": "3.9.12"
  }
 },
 "nbformat": 4,
 "nbformat_minor": 5
}

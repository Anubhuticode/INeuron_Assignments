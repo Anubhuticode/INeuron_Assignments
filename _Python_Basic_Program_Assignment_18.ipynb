{
 "cells": [
  {
   "cell_type": "markdown",
   "id": "49f60ed9",
   "metadata": {},
   "source": [
    "# Python_Basic_Program_Assignment_18"
   ]
  },
  {
   "cell_type": "code",
   "execution_count": null,
   "id": "717e07b1",
   "metadata": {},
   "outputs": [],
   "source": [
    "1.  Create a function that takes a list of non-negative integers and strings and return a new list\n",
    "without the strings. Examples filter_list([1, 2, 'a', 'b']) ➞ [1, 2]\n",
    "filter_list([1, 'a', 'b', 0, 15]) ➞ [1, 0, 15] filter_list([1, 2, 'aasf', '1', '123', 123]) ➞ [1, 2, 123]"
   ]
  },
  {
   "cell_type": "code",
   "execution_count": 1,
   "id": "6e2a85f6",
   "metadata": {},
   "outputs": [
    {
     "name": "stdout",
     "output_type": "stream",
     "text": [
      "[1, 2]\n"
     ]
    }
   ],
   "source": [
    "l = [1,2,'a','b']\n",
    "\n",
    "def filter_list(l):\n",
    "    new_list = []\n",
    "    for x in l:\n",
    "        if type(x) == int:\n",
    "            new_list.append(x)\n",
    "    return new_list\n",
    "\n",
    "print(filter_list(l))"
   ]
  },
  {
   "cell_type": "code",
   "execution_count": null,
   "id": "8319380f",
   "metadata": {},
   "outputs": [],
   "source": [
    "2. The 'Reverser' takes a string as input and returns that string in reverse order, with the\n",
    "opposite case. Examples reverse('Hello World') ➞ 'DLROw OLLEh' reverse('ReVeRsE') ➞ 'eSrEvEr' reverse('Radar') ➞ 'RADAr'"
   ]
  },
  {
   "cell_type": "code",
   "execution_count": 2,
   "id": "7c6f11ca",
   "metadata": {},
   "outputs": [
    {
     "name": "stdout",
     "output_type": "stream",
     "text": [
      "DLROw OLLEh\n"
     ]
    }
   ],
   "source": [
    "def reverse(str):\n",
    "    str = str[::-1]\n",
    "    return str.swapcase()\n",
    "    \n",
    "print(reverse('Hello World'))"
   ]
  },
  {
   "cell_type": "code",
   "execution_count": null,
   "id": "0a774d31",
   "metadata": {},
   "outputs": [],
   "source": [
    "3.  You can assign variables from lists like this:\n",
    "\n",
    "lst = [1, 2, 3, 4, 5, 6] first = lst[0] middle = lst[1:-1] last = lst[-1] print(first) ➞ outputs 1 print(middle) ➞ outputs [2, 3, 4, 5] print(last) ➞ outputs 6 With Python 3, you can assign variables from lists in a much more succinct way. Create variables first, middle and last from the given list using destructuring assignment (check the Resources tab for some examples), where: first ➞ 1 middle ➞ [2, 3, 4, 5] last ➞ 6\n",
    "\n",
    "Your task is to unpack the list writeyourcodehere into three variables, being first, middle, and last, with middle being everything in between the first and last element. Then print all three variables."
   ]
  },
  {
   "cell_type": "code",
   "execution_count": 3,
   "id": "b58adf92",
   "metadata": {},
   "outputs": [
    {
     "data": {
      "text/plain": [
       "[2, 3, 4, 5]"
      ]
     },
     "execution_count": 3,
     "metadata": {},
     "output_type": "execute_result"
    }
   ],
   "source": [
    "lst = [1, 2, 3, 4, 5, 6]\n",
    "first ,*middle,last = lst\n",
    "middle"
   ]
  },
  {
   "cell_type": "code",
   "execution_count": null,
   "id": "472b5cfc",
   "metadata": {},
   "outputs": [],
   "source": [
    "4.  Write a function that calculates the factorial of a number recursively.\n",
    "\n",
    "Examples factorial(5) ➞ 120 factorial(3) ➞ 6 factorial(1) ➞ 1 factorial(0) ➞ 1"
   ]
  },
  {
   "cell_type": "code",
   "execution_count": 6,
   "id": "5d56179d",
   "metadata": {},
   "outputs": [
    {
     "name": "stdout",
     "output_type": "stream",
     "text": [
      "enter a number :5\n",
      "Factorial of 5 is 120\n"
     ]
    }
   ],
   "source": [
    "def factorial(n):     \n",
    "    if n == 0:\n",
    "        return 1    \n",
    "    return n * factorial(n-1)\n",
    "\n",
    "num = int(input('enter a number :'))\n",
    "print(\"Factorial of\", num, \"is\", factorial(num))"
   ]
  },
  {
   "cell_type": "code",
   "execution_count": null,
   "id": "62b6fb79",
   "metadata": {},
   "outputs": [],
   "source": [
    "5. Write a function that moves all elements of one type to the end of the list.\n",
    "\n",
    "Examples move_to_end([1, 3, 2, 4, 4, 1], 1) ➞ [3, 2, 4, 4, 1, 1] Move all the 1s to the end of the array. move_to_end([7, 8, 9, 1, 2, 3, 4], 9)\n",
    "➞ [7, 8, 1, 2, 3, 4, 9] move_to_end(['a', 'a', 'a', 'b'], 'a') ➞ ['b', 'a', 'a', 'a']"
   ]
  },
  {
   "cell_type": "code",
   "execution_count": 7,
   "id": "39e289d6",
   "metadata": {},
   "outputs": [
    {
     "name": "stdout",
     "output_type": "stream",
     "text": [
      "7 8 4 1 2 3 9 "
     ]
    }
   ],
   "source": [
    "def move_to_end(array, toMove):\n",
    "    i = 0   \n",
    "    j = len(array) - 1   \n",
    "    while (i < j):  \n",
    "        while (i < j and array[j] == toMove):\n",
    "             j-=1\n",
    "        if (array[i] == toMove):\n",
    "              # swap the two elements\n",
    "            # in the array\n",
    "            array[i], array[j] = array[j] , array[i]       \n",
    "        i += 1\n",
    "  \n",
    "    # return the result\n",
    "    return array\n",
    "arr = [7, 8, 9, 1, 2, 3, 4]\n",
    "a = 9\n",
    "ans = move_to_end(arr, a)\n",
    "for i in range(len(arr)):\n",
    "    print(ans[i] ,end= \" \")"
   ]
  },
  {
   "cell_type": "code",
   "execution_count": 8,
   "id": "87ba72e9",
   "metadata": {},
   "outputs": [
    {
     "name": "stdout",
     "output_type": "stream",
     "text": [
      "b a a a "
     ]
    }
   ],
   "source": [
    "arr = ['a', 'a', 'a', 'b']\n",
    "k = 'a'\n",
    "ans = move_to_end(arr, k)\n",
    "for i in range(len(arr)):\n",
    "    print(ans[i] ,end= \" \")"
   ]
  }
 ],
 "metadata": {
  "kernelspec": {
   "display_name": "Python 3 (ipykernel)",
   "language": "python",
   "name": "python3"
  },
  "language_info": {
   "codemirror_mode": {
    "name": "ipython",
    "version": 3
   },
   "file_extension": ".py",
   "mimetype": "text/x-python",
   "name": "python",
   "nbconvert_exporter": "python",
   "pygments_lexer": "ipython3",
   "version": "3.9.12"
  }
 },
 "nbformat": 4,
 "nbformat_minor": 5
}

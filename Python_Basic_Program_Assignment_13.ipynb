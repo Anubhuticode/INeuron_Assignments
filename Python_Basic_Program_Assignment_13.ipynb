{
 "cells": [
  {
   "cell_type": "markdown",
   "id": "4c20e57c",
   "metadata": {},
   "source": [
    "# Python_Basic_Program_Assignment_13"
   ]
  },
  {
   "cell_type": "markdown",
   "id": "52e5ad5d",
   "metadata": {},
   "source": [
    "1. Write a program that calculates and prints the value according to the given formula: Q = Square root of [(2 * C * D)/H] Following are the fixed values of C and H: C is 50. H is 30. D is the variable whose values should be input to your program in a comma-separated sequence. Example Let us assume the following comma separated input sequence is given to the program: 100,150,180 The output of the program should be: 18,22,24"
   ]
  },
  {
   "cell_type": "code",
   "execution_count": 8,
   "id": "ed48b7ea",
   "metadata": {},
   "outputs": [
    {
     "name": "stdout",
     "output_type": "stream",
     "text": [
      "Enter the values:100,150,180\n",
      "The output is: [18, 22, 24]\n"
     ]
    }
   ],
   "source": [
    "import math\n",
    "d=[int(x) for x in input(\"Enter the values:\").split(',')]\n",
    "c=50\n",
    "h=30\n",
    "result=[]\n",
    "for i in d:\n",
    "    result.append(round(math.sqrt((2*c*i)/h)))\n",
    "print(\"The output is:\",result)    \n",
    "    "
   ]
  },
  {
   "cell_type": "markdown",
   "id": "cbc12e8b",
   "metadata": {},
   "source": [
    "2. Write a program which takes 2 digits, X,Y as input and generates a 2-dimensional array. The\n",
    "\n",
    "element value in the i-th row and j-th column of the array should be i*j. Note: i=0,1.., X-1; j=0,1,¡Y-1. \n",
    "Example Suppose the following inputs are given to the program: 3,5 \n",
    "    Then, the output of the program should be: [[0, 0, 0, 0, 0], [0, 1, 2, 3, 4], [0, 2, 4, 6, 8]]"
   ]
  },
  {
   "cell_type": "code",
   "execution_count": 16,
   "id": "3d85dd22",
   "metadata": {},
   "outputs": [
    {
     "name": "stdout",
     "output_type": "stream",
     "text": [
      "Enter the value of row and column:3,5\n"
     ]
    },
    {
     "data": {
      "text/plain": [
       "[[0, 0, 0, 0, 0], [0, 1, 2, 3, 4], [0, 2, 4, 6, 8]]"
      ]
     },
     "execution_count": 16,
     "metadata": {},
     "output_type": "execute_result"
    }
   ],
   "source": [
    "x,y=[int(x) for x in input(\"Enter the value of row and column:\").split(',')]\n",
    "m=[]\n",
    "for i in range(0,x):\n",
    "    row=[]\n",
    "    for j in range(0,y):\n",
    "        row.append(i*j)\n",
    "    m.append(row)    \n",
    "m    \n",
    "        "
   ]
  },
  {
   "cell_type": "markdown",
   "id": "1cf2a539",
   "metadata": {},
   "source": [
    "3. Write a program that accepts a comma separated sequence of words as input and prints the\n",
    "words in a comma-separated sequence after sorting them alphabetically.\n",
    "Suppose the following input is supplied to the program: without,hello,bag,world \n",
    "    Then, the output should be: bag,hello,without,world"
   ]
  },
  {
   "cell_type": "code",
   "execution_count": 34,
   "id": "5f4fa93f",
   "metadata": {},
   "outputs": [
    {
     "name": "stdout",
     "output_type": "stream",
     "text": [
      "Enter words:without,hello,bag,world\n",
      "bag,hello,without,world\n"
     ]
    }
   ],
   "source": [
    "value=input(\"Enter words:\")\n",
    "value=value.split(',')\n",
    "value.sort()\n",
    "print(','.join(value))  \n",
    "  "
   ]
  },
  {
   "cell_type": "markdown",
   "id": "7c97e678",
   "metadata": {},
   "source": [
    "4. Write a program that accepts a sequence of whitespace separated words as input and prints\n",
    "\n",
    "the words after removing all duplicate words and sorting them alphanumerically. \n",
    "Suppose the following input is supplied to the program: hello world and practice makes perfect and hello world again\n",
    "    Then, the output should be: again and hello makes perfect practice world"
   ]
  },
  {
   "cell_type": "code",
   "execution_count": 41,
   "id": "609c2011",
   "metadata": {},
   "outputs": [
    {
     "name": "stdout",
     "output_type": "stream",
     "text": [
      "Enter the string:hello world and practise makes perfect and hello world again\n",
      "again and hello makes perfect practise world\n"
     ]
    }
   ],
   "source": [
    "words=[x for x in input(\"Enter the string:\").split(' ')]\n",
    "words=list(set(words))\n",
    "words.sort()\n",
    "print(' '.join(words))"
   ]
  },
  {
   "cell_type": "code",
   "execution_count": null,
   "id": "8ddbe13a",
   "metadata": {},
   "outputs": [],
   "source": [
    "5. Write a program that accepts a sentence and calculate the number of letters and digits.\n",
    "\n",
    "Suppose the following input is supplied to the program: hello world! 123 Then, the output should be: LETTERS 10 DIGITS 3"
   ]
  },
  {
   "cell_type": "code",
   "execution_count": 49,
   "id": "9da13c5c",
   "metadata": {},
   "outputs": [
    {
     "name": "stdout",
     "output_type": "stream",
     "text": [
      "Enter the sentence: hello world! 123\n",
      "Alphabet : 10\n",
      "Number : 3\n"
     ]
    }
   ],
   "source": [
    "s=input(\"Enter the sentence: \")\n",
    "count_a=0\n",
    "count_n=0\n",
    "for i in s:\n",
    "    if i.isdigit()==True:\n",
    "        count_n+=1\n",
    "    if i.isalpha()==True:\n",
    "        count_a+=1\n",
    "print(\"Alphabet :\",count_a)\n",
    "print(\"Number :\",count_n)\n",
    "        "
   ]
  },
  {
   "cell_type": "code",
   "execution_count": null,
   "id": "f5b7fc26",
   "metadata": {},
   "outputs": [],
   "source": [
    "7. A website requires the users to input username and password to register. Write a program to\n",
    "\n",
    "check the validity of password input by users. Following are the criteria for checking the password:\n",
    "\n",
    "At least 1 letter between [a-z]\n",
    "At least 1 number between [0-9]\n",
    "At least 1 letter between [A-Z]\n",
    "At least 1 character from [$#@]\n",
    "Minimum length of transaction password: 6\n",
    "Maximum length of transaction password: 12\n",
    "Your program should accept a sequence of comma separated passwords and will check them according to the above criteria.\n",
    "                           Passwords that match the criteria are to be printed, each separated by a comma.\n",
    "                           Example If the following passwords are given as input to the program:\n",
    "                           ABd1234@1,a F1#,2w3E*,2We3345 Then, the output of the program should be: ABd1234@1"
   ]
  },
  {
   "cell_type": "code",
   "execution_count": 51,
   "id": "4e1a011d",
   "metadata": {},
   "outputs": [
    {
     "name": "stdout",
     "output_type": "stream",
     "text": [
      "Input your passwordABd1234@1,a F1#,2w3E*,2We3345 \n",
      "['ABd1234@1']\n"
     ]
    }
   ],
   "source": [
    "import re\n",
    "password= [x for x in input(\"Input your password\").split(',')]\n",
    "result=[]\n",
    "for i in password:\n",
    "    while True:  \n",
    "        if (len(i)<6 or len(i)>12):\n",
    "             break\n",
    "        elif not re.search(\"[a-z]\",i):\n",
    "            break\n",
    "        elif not re.search(\"[0-9]\",i):\n",
    "            break\n",
    "        elif not re.search(\"[A-Z]\",i):\n",
    "            break\n",
    "        elif not re.search(\"[$#@]\",i):\n",
    "            break\n",
    "        elif re.search(\"\\s\",i):\n",
    "            break\n",
    "        else:\n",
    "            result.append(i)\n",
    "            break\n",
    "\n",
    "print(result)"
   ]
  },
  {
   "cell_type": "code",
   "execution_count": null,
   "id": "6ada7ee6",
   "metadata": {},
   "outputs": [],
   "source": []
  }
 ],
 "metadata": {
  "kernelspec": {
   "display_name": "Python 3 (ipykernel)",
   "language": "python",
   "name": "python3"
  },
  "language_info": {
   "codemirror_mode": {
    "name": "ipython",
    "version": 3
   },
   "file_extension": ".py",
   "mimetype": "text/x-python",
   "name": "python",
   "nbconvert_exporter": "python",
   "pygments_lexer": "ipython3",
   "version": "3.9.12"
  }
 },
 "nbformat": 4,
 "nbformat_minor": 5
}

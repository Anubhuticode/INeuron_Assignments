{
 "cells": [
  {
   "cell_type": "markdown",
   "id": "c18392bc",
   "metadata": {},
   "source": [
    "# Python_Basic_Program_Assignment_9"
   ]
  },
  {
   "cell_type": "code",
   "execution_count": null,
   "id": "6ff9c9d2",
   "metadata": {},
   "outputs": [],
   "source": [
    "1. Write a Python program to check if the given number is a Disarium Number?"
   ]
  },
  {
   "cell_type": "code",
   "execution_count": 14,
   "id": "66143666",
   "metadata": {},
   "outputs": [
    {
     "name": "stdout",
     "output_type": "stream",
     "text": [
      "Enter a number:175\n",
      "175 is a disarium number\n"
     ]
    }
   ],
   "source": [
    "#Function to calculate length of number\n",
    "def num_len(n):\n",
    "    lent=0\n",
    "    while n!=0:\n",
    "        lent=lent+1\n",
    "        n=n//10\n",
    "    return lent \n",
    "#To find disarium number\n",
    "num=int(input(\"Enter a number:\"))    \n",
    "rem = sum = 0    \n",
    "l = num_len(num)    \n",
    "n = num    \n",
    "while(n > 0):    \n",
    "    rem = n%10  \n",
    "    sum = sum + int(rem**l)    \n",
    "    n = n//10    \n",
    "    l = l - 1    \n",
    "if(sum == num):    \n",
    "    print(str(num) + \" is a disarium number\")   \n",
    "else:    \n",
    "    print(str(num) + \" is not a disarium number\")  "
   ]
  },
  {
   "cell_type": "code",
   "execution_count": null,
   "id": "916ae7f9",
   "metadata": {},
   "outputs": [],
   "source": [
    "2. Write a Python program to print all disarium numbers between 1 to 100?"
   ]
  },
  {
   "cell_type": "code",
   "execution_count": 13,
   "id": "368a4eb2",
   "metadata": {},
   "outputs": [
    {
     "name": "stdout",
     "output_type": "stream",
     "text": [
      "1\n",
      "2\n",
      "3\n",
      "4\n",
      "5\n",
      "6\n",
      "7\n",
      "8\n",
      "9\n",
      "89\n"
     ]
    }
   ],
   "source": [
    "#Function to calculate lengthof number\n",
    "def num_len(n):\n",
    "    lent=0\n",
    "    while n!=0:\n",
    "        lent=lent+1\n",
    "        n=n//10\n",
    "    return lent\n",
    "#To calculate sum of digits\n",
    "def sum_n(n):\n",
    "    rem=sum=0\n",
    "    l=num_len(n)\n",
    "    x=n\n",
    "    while(x>0):\n",
    "        rem=x%10\n",
    "        sum=sum+int(rem**l)\n",
    "        x=x//10\n",
    "        l=l-1\n",
    "    return sum\n",
    "#To find number in range\n",
    "a=100\n",
    "for i in range(1,101):\n",
    "    if i==sum_n(i):\n",
    "        print(i)\n",
    "    \n",
    "\n",
    "\n",
    "\n",
    "    "
   ]
  },
  {
   "cell_type": "code",
   "execution_count": null,
   "id": "61b7affd",
   "metadata": {},
   "outputs": [],
   "source": [
    "3. Write a Python program to check if the given number is Happy Number?"
   ]
  },
  {
   "cell_type": "code",
   "execution_count": 16,
   "id": "164a2a98",
   "metadata": {},
   "outputs": [
    {
     "name": "stdout",
     "output_type": "stream",
     "text": [
      "Enter an integer32\n",
      "32 is a happy number\n"
     ]
    }
   ],
   "source": [
    "def isHappyNumber(num):    \n",
    "    rem = sum = 0     \n",
    "    while(num > 0):    \n",
    "        rem = num%10   \n",
    "        sum = sum + (rem*rem)  \n",
    "        num = num//10  \n",
    "    return sum\n",
    "num = int(input(\"Enter an integer\"))   \n",
    "result = num\n",
    "while(result != 1 and result != 4):    \n",
    "    result = isHappyNumber(result)\n",
    "if(result == 1):    \n",
    "    print(str(num) + \" is a happy number\"); \n",
    "elif(result == 4):    \n",
    "    print(str(num) + \" is not a happy number\"); "
   ]
  },
  {
   "cell_type": "code",
   "execution_count": null,
   "id": "670e1477",
   "metadata": {},
   "outputs": [],
   "source": [
    "4. Write a Python program to print all happy numbers between 1 and 100?"
   ]
  },
  {
   "cell_type": "code",
   "execution_count": 19,
   "id": "0205af60",
   "metadata": {},
   "outputs": [
    {
     "name": "stdout",
     "output_type": "stream",
     "text": [
      "1\n",
      "7\n",
      "10\n",
      "13\n",
      "19\n",
      "23\n",
      "28\n",
      "31\n",
      "32\n",
      "44\n",
      "49\n",
      "68\n",
      "70\n",
      "79\n",
      "82\n",
      "86\n",
      "91\n",
      "94\n",
      "97\n",
      "100\n"
     ]
    }
   ],
   "source": [
    "def isHappyNumber(num):    \n",
    "    rem = sum = 0     \n",
    "    while(num > 0):    \n",
    "        rem = num%10   \n",
    "        sum = sum + (rem*rem)  \n",
    "        num = num//10  \n",
    "    return sum\n",
    "a=100\n",
    "for i in range(1,101):\n",
    "    result = i\n",
    "    while(result != 1 and result != 4):    \n",
    "         result = isHappyNumber(result)\n",
    "    if(result == 1):\n",
    "         print(i)\n",
    " \n",
    "        \n",
    "    "
   ]
  },
  {
   "cell_type": "code",
   "execution_count": null,
   "id": "60c8c10f",
   "metadata": {},
   "outputs": [],
   "source": [
    "5. Write a Python program to determine whether the given number is a Harshad Number?"
   ]
  },
  {
   "cell_type": "code",
   "execution_count": 1,
   "id": "5efb34b0",
   "metadata": {},
   "outputs": [
    {
     "name": "stdout",
     "output_type": "stream",
     "text": [
      "Enter a number:156\n",
      "156 is harshad number\n"
     ]
    }
   ],
   "source": [
    "num=int(input(\"Enter a number:\"))\n",
    "rem=0\n",
    "sum=0\n",
    "n=num\n",
    "while (num>0):\n",
    "    rem=num%10\n",
    "    sum=sum+rem\n",
    "    num=num//10\n",
    "if(n%sum==0):\n",
    "    print(f'{n} is harshad number')\n",
    "else:\n",
    "    print(f'{n} is not harshad number')\n",
    "    "
   ]
  },
  {
   "cell_type": "code",
   "execution_count": null,
   "id": "e2f3a616",
   "metadata": {},
   "outputs": [],
   "source": [
    "6. Write a Python program to print all pronic numbers between 1 and 100?"
   ]
  },
  {
   "cell_type": "code",
   "execution_count": 9,
   "id": "f98a4cf4",
   "metadata": {},
   "outputs": [
    {
     "name": "stdout",
     "output_type": "stream",
     "text": [
      "Pronic number between 1 and 100 are:\n",
      "2\n",
      "6\n",
      "12\n",
      "20\n",
      "30\n",
      "42\n",
      "56\n",
      "72\n",
      "90\n"
     ]
    }
   ],
   "source": [
    "def isPronic(num):    \n",
    "    flag = False      \n",
    "    for j in range(1, num+1):      \n",
    "        if((j*(j+1)) == num):    \n",
    "            flag = True    \n",
    "            break   \n",
    "    return flag  \n",
    "\n",
    "print(\"Pronic number between 1 and 100 are:\")     \n",
    "  \n",
    "for i in range(1, 101):    \n",
    "    if(isPronic(i)):    \n",
    "        print(i)      "
   ]
  }
 ],
 "metadata": {
  "kernelspec": {
   "display_name": "Python 3 (ipykernel)",
   "language": "python",
   "name": "python3"
  },
  "language_info": {
   "codemirror_mode": {
    "name": "ipython",
    "version": 3
   },
   "file_extension": ".py",
   "mimetype": "text/x-python",
   "name": "python",
   "nbconvert_exporter": "python",
   "pygments_lexer": "ipython3",
   "version": "3.9.12"
  }
 },
 "nbformat": 4,
 "nbformat_minor": 5
}

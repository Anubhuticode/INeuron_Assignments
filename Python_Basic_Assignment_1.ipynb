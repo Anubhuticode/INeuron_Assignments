{
 "cells": [
  {
   "cell_type": "markdown",
   "id": "d16e9f0e",
   "metadata": {},
   "source": [
    "# Python_Basic_Assignment_1"
   ]
  },
  {
   "cell_type": "code",
   "execution_count": null,
   "id": "cc6397ba",
   "metadata": {},
   "outputs": [],
   "source": [
    "1. In the below elements which of them are values or an expression? eg:- values can be\n",
    "integer or string and expressions will be mathematical operators.\n",
    "*\n",
    "'hello'\n",
    "-87.8\n",
    "-\n",
    "/\n",
    "+\n",
    "6\n",
    "Answer: * is mathematical operator\n",
    "    'hello' is value\n",
    "    -87.8 is value\n",
    "    - is mathematical operator\n",
    "    / is mathematical operator\n",
    "    + is mathematical operator\n",
    "    6 is a value\n",
    "        "
   ]
  },
  {
   "cell_type": "code",
   "execution_count": null,
   "id": "d2529418",
   "metadata": {},
   "outputs": [],
   "source": [
    "2. What is the difference between string and variable?\n",
    "Answer: String is a character type data type.\n",
    "        Variable are symbols which are used to store values in a program.Its value can be changes.\n",
    "        eg. x='Neha Anubhuti'\n",
    "            here, x is variable who stores the data in form of sting (Neha Anubhuti) "
   ]
  },
  {
   "cell_type": "code",
   "execution_count": null,
   "id": "2f68f74c",
   "metadata": {},
   "outputs": [],
   "source": [
    "3. Describe three different data types.\n",
    "Answer: The three different data type in Python are:\n",
    "        i) Numeric (eg. 1995, 4.55)\n",
    "        ii) Boolean (True, False)\n",
    "        iii) Sequence (string: \"Neha Anubhuti\", list [2,3,4,5,\"Ineuron\"],tuple (\"I\",\"am\",\"Data\",\"Scientist\"))"
   ]
  },
  {
   "cell_type": "code",
   "execution_count": null,
   "id": "a7b8f4e2",
   "metadata": {},
   "outputs": [],
   "source": [
    "4. What is an expression made up of? What do all expressions do?\n",
    "Answer: Expression are made up of operator and operand. They are evaluated in a program.\n",
    "        operator: %,*,+,**,etc.\n",
    "        operand: These ar evalues on which operators are iperated.\n",
    "                 x=x**2\n",
    "        Expression can be of many types like: constant expression, Arithmetic expression,Relational,logical etc.\n",
    "       \n",
    "    \n",
    "        Expression evaluates values during a program. In case of multi operator, operation is performed according to the precedence.  "
   ]
  },
  {
   "cell_type": "code",
   "execution_count": null,
   "id": "034a1879",
   "metadata": {},
   "outputs": [],
   "source": [
    "5. This assignment statements, like spam = 10. What is the difference between an\n",
    "expression and a statement?\n",
    "Answer: Expression is combination of value and opertaions which can be evaluated to a single value by a compiler.\n",
    "        The expression evaluation does not result in any state change.\n",
    "        But statement is a standalone value. Its evaluation results in change of state.\n",
    "        A statement can be called as variable but vice-versa is not true.\n",
    "        "
   ]
  },
  {
   "cell_type": "code",
   "execution_count": null,
   "id": "749f1f34",
   "metadata": {},
   "outputs": [],
   "source": [
    "6.After running the following code, what does the variable bacon contain?\n",
    "bacon = 22\n",
    "bacon + 1\n",
    "Answer: bacon=23"
   ]
  },
  {
   "cell_type": "code",
   "execution_count": 1,
   "id": "29b0c00e",
   "metadata": {},
   "outputs": [
    {
     "data": {
      "text/plain": [
       "23"
      ]
     },
     "execution_count": 1,
     "metadata": {},
     "output_type": "execute_result"
    }
   ],
   "source": [
    "7. What should the values of the following two terms be?\n",
    "'spam'+'spamspam'\n",
    "'spam'*3\n",
    "Answer: 'spam'+'spamspam':'spamspamspam'\n",
    "        'spam'*3:'spamspamspam'"
   ]
  },
  {
   "cell_type": "code",
   "execution_count": null,
   "id": "37e4eda0",
   "metadata": {},
   "outputs": [],
   "source": [
    "8. Why is eggs a valid variable name while 100 is invalid?\n",
    "Answer: Accornding to Variable name rule, A varable can only start with underscore or letter. \n",
    "    It can not start with a number.So, 100 is invalid.\n",
    "    Also, varable name can contain alpha-numeric value or underscore. S, eggs is a valid variable name.\n",
    "    "
   ]
  },
  {
   "cell_type": "code",
   "execution_count": null,
   "id": "de5bdbde",
   "metadata": {},
   "outputs": [],
   "source": [
    "9. What three functions can be used to get the integer, floating-point number, or string\n",
    "version of a value?\n",
    "Answer: Type casting is used to convert to a particular data type:\n",
    "        eg. int(4.88)\n",
    "        float(2)\n",
    "        str(1999)"
   ]
  },
  {
   "cell_type": "code",
   "execution_count": null,
   "id": "ae9c05c7",
   "metadata": {},
   "outputs": [],
   "source": [
    "Why does this expression cause an error? How can you fix it?\n",
    "'I have eaten' + 99 + 'burritos'\n",
    "Answer: 99 is integer data type.So it can not be concatinated.\n",
    "    Correction: 'I have eaten' + str( 99 ) + 'burritos'"
   ]
  },
  {
   "cell_type": "code",
   "execution_count": null,
   "id": "8cb4f35c",
   "metadata": {},
   "outputs": [],
   "source": []
  },
  {
   "cell_type": "code",
   "execution_count": null,
   "id": "f9a3d95c",
   "metadata": {},
   "outputs": [],
   "source": []
  },
  {
   "cell_type": "code",
   "execution_count": null,
   "id": "0b580c74",
   "metadata": {},
   "outputs": [],
   "source": []
  },
  {
   "cell_type": "code",
   "execution_count": null,
   "id": "d5010d6b",
   "metadata": {},
   "outputs": [],
   "source": []
  },
  {
   "cell_type": "code",
   "execution_count": null,
   "id": "1434fb76",
   "metadata": {},
   "outputs": [],
   "source": []
  },
  {
   "cell_type": "code",
   "execution_count": null,
   "id": "6c2f54e0",
   "metadata": {},
   "outputs": [],
   "source": []
  },
  {
   "cell_type": "code",
   "execution_count": null,
   "id": "1678c1e8",
   "metadata": {},
   "outputs": [],
   "source": []
  },
  {
   "cell_type": "code",
   "execution_count": null,
   "id": "b0b32b61",
   "metadata": {},
   "outputs": [],
   "source": []
  },
  {
   "cell_type": "code",
   "execution_count": null,
   "id": "ceae0619",
   "metadata": {},
   "outputs": [],
   "source": []
  },
  {
   "cell_type": "code",
   "execution_count": null,
   "id": "f396c20b",
   "metadata": {},
   "outputs": [],
   "source": []
  },
  {
   "cell_type": "code",
   "execution_count": null,
   "id": "51730ccd",
   "metadata": {},
   "outputs": [],
   "source": []
  },
  {
   "cell_type": "code",
   "execution_count": null,
   "id": "557a3dee",
   "metadata": {},
   "outputs": [],
   "source": []
  },
  {
   "cell_type": "code",
   "execution_count": null,
   "id": "d5361a5b",
   "metadata": {},
   "outputs": [],
   "source": []
  },
  {
   "cell_type": "code",
   "execution_count": null,
   "id": "228cb996",
   "metadata": {},
   "outputs": [],
   "source": []
  }
 ],
 "metadata": {
  "kernelspec": {
   "display_name": "Python 3 (ipykernel)",
   "language": "python",
   "name": "python3"
  },
  "language_info": {
   "codemirror_mode": {
    "name": "ipython",
    "version": 3
   },
   "file_extension": ".py",
   "mimetype": "text/x-python",
   "name": "python",
   "nbconvert_exporter": "python",
   "pygments_lexer": "ipython3",
   "version": "3.9.12"
  }
 },
 "nbformat": 4,
 "nbformat_minor": 5
}

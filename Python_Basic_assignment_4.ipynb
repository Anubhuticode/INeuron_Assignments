{
 "cells": [
  {
   "cell_type": "markdown",
   "id": "9255e047",
   "metadata": {},
   "source": [
    "# Python_Basic_Assignment_4\n"
   ]
  },
  {
   "cell_type": "code",
   "execution_count": null,
   "id": "53f9e39f",
   "metadata": {},
   "outputs": [],
   "source": [
    "1. What exactly is []?\n",
    "Answer: The empty list value, which is a list value that contains no items.\n",
    "   "
   ]
  },
  {
   "cell_type": "code",
   "execution_count": null,
   "id": "1540b89d",
   "metadata": {},
   "outputs": [],
   "source": [
    "2. In a list of values stored in a variable called spam, how would you assign the value'hello' as the\n",
    "third value? (Assume [2, 4, 6, 8, 10] are in spam.)\n",
    "Answer:\n",
    "    spam=[2,4,6,8,10]\n",
    "    spam[2]='hello'"
   ]
  },
  {
   "cell_type": "code",
   "execution_count": null,
   "id": "2ec3122d",
   "metadata": {},
   "outputs": [],
   "source": [
    "spam=['a','b','c','d']\n",
    "3. What is the value of spam[int(int('3'* 2) / 11)]?\n",
    "Answer: d"
   ]
  },
  {
   "cell_type": "code",
   "execution_count": null,
   "id": "3bc174e7",
   "metadata": {},
   "outputs": [],
   "source": [
    "4. What is the value of spam[-1]?\n",
    "Answer: d"
   ]
  },
  {
   "cell_type": "code",
   "execution_count": null,
   "id": "b463a86c",
   "metadata": {},
   "outputs": [],
   "source": [
    "5. What is the value of spam[:2]?\n",
    "Answer:['a', 'b']"
   ]
  },
  {
   "cell_type": "code",
   "execution_count": null,
   "id": "2eb5c133",
   "metadata": {},
   "outputs": [],
   "source": [
    "bacon=[3.14,'cat',11,'cat',True]\n",
    "6. What is the value of bacon.index('cat')?\n",
    "Answer: 1                              "
   ]
  },
  {
   "cell_type": "code",
   "execution_count": null,
   "id": "8ad898e9",
   "metadata": {},
   "outputs": [],
   "source": [
    "7. How does bacon.append(99) change the look of the list value in bacon?\n",
    "Answer:[3.14, 'cat', 11, 'cat', True, 99]"
   ]
  },
  {
   "cell_type": "code",
   "execution_count": null,
   "id": "a36147c1",
   "metadata": {},
   "outputs": [],
   "source": [
    "8. How does bacon.remove('cat') change the look of the list in bacon?\n",
    "Answer: [3.14, 11, 'cat', True]"
   ]
  },
  {
   "cell_type": "code",
   "execution_count": null,
   "id": "0f6bb620",
   "metadata": {},
   "outputs": [],
   "source": [
    "9. What are the list concatenation and list replication operators?\n",
    "Answer:For list concatenation: +\n",
    "        for list replication : *"
   ]
  },
  {
   "cell_type": "code",
   "execution_count": null,
   "id": "5aeba17b",
   "metadata": {},
   "outputs": [],
   "source": [
    "10. What is difference between the list methods append() and insert()?\n",
    "Answer: append(): it will add the value after the last index of list\n",
    "        insert(): it will add at the given index"
   ]
  },
  {
   "cell_type": "code",
   "execution_count": null,
   "id": "efa30a90",
   "metadata": {},
   "outputs": [],
   "source": [
    "11. What are the two methods for removing items from a list?\n",
    "Answer:del and remove() are the two method to remove the value."
   ]
  },
  {
   "cell_type": "code",
   "execution_count": null,
   "id": "b080de1b",
   "metadata": {},
   "outputs": [],
   "source": [
    "12. Describe how list values and string values are identical.\n",
    "Answer:1. Both can be passed through len()\n",
    "    2. Booth can be indexed and slicing operation.\n",
    "    3. Both can be concatianted and duplicated\n",
    "    4. Used in for loop\n",
    "    5. Both can be used with in as well as not in operators"
   ]
  },
  {
   "cell_type": "code",
   "execution_count": null,
   "id": "5019cdd5",
   "metadata": {},
   "outputs": [],
   "source": [
    "13. What is the difference between tuples and lists?\n",
    "Answer: Lists are mutable i.e. elements can be added, removed, modified. Tuple are not mutable i.e. elements can not \n",
    "    be added, removed, modified.\n",
    "    List1=[1,2,3,\"Neha\"]\n",
    "    tup1=(1,2,3,\"d\")"
   ]
  },
  {
   "cell_type": "code",
   "execution_count": null,
   "id": "3003db27",
   "metadata": {},
   "outputs": [],
   "source": [
    "14. How do you type a tuple value that only contains the integer 42?\n",
    "Answer:(42)"
   ]
  },
  {
   "cell_type": "code",
   "execution_count": null,
   "id": "70c6c43d",
   "metadata": {},
   "outputs": [],
   "source": [
    "15. How do you get a list value tuple form? How do you get a tuple in list form?\n",
    "Answer:The tuple() and list() functions, respectively\n"
   ]
  },
  {
   "cell_type": "code",
   "execution_count": 9,
   "id": "f6e844d9",
   "metadata": {},
   "outputs": [],
   "source": [
    "16. Variables that \"contain\" list values are not necessarily lists themselves. Instead, what do they\n",
    "contain?\n",
    "Answer:They contain references to list values."
   ]
  },
  {
   "cell_type": "code",
   "execution_count": null,
   "id": "93cbc189",
   "metadata": {},
   "outputs": [],
   "source": [
    "17. How do you distinguish between copy.copy() and copy.deepcopy()?\n",
    "Answer:copy():it does a shallow copy means it doesnot copy the object to a new location. So if value is changed,\n",
    "        it will reflect in original place.\n",
    "        deep.copy(): it will duplicate the value to a new loction. so value change in copied place will not be \n",
    "        reflected in the older place."
   ]
  },
  {
   "cell_type": "code",
   "execution_count": null,
   "id": "283734ed",
   "metadata": {},
   "outputs": [],
   "source": []
  },
  {
   "cell_type": "code",
   "execution_count": null,
   "id": "4b7850ce",
   "metadata": {},
   "outputs": [],
   "source": []
  },
  {
   "cell_type": "code",
   "execution_count": null,
   "id": "e69c91cf",
   "metadata": {},
   "outputs": [],
   "source": []
  },
  {
   "cell_type": "code",
   "execution_count": null,
   "id": "8b3c0f9c",
   "metadata": {},
   "outputs": [],
   "source": []
  },
  {
   "cell_type": "code",
   "execution_count": null,
   "id": "2ac7411c",
   "metadata": {},
   "outputs": [],
   "source": []
  }
 ],
 "metadata": {
  "kernelspec": {
   "display_name": "Python 3 (ipykernel)",
   "language": "python",
   "name": "python3"
  },
  "language_info": {
   "codemirror_mode": {
    "name": "ipython",
    "version": 3
   },
   "file_extension": ".py",
   "mimetype": "text/x-python",
   "name": "python",
   "nbconvert_exporter": "python",
   "pygments_lexer": "ipython3",
   "version": "3.9.12"
  }
 },
 "nbformat": 4,
 "nbformat_minor": 5
}

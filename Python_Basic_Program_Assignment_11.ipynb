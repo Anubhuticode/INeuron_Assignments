{
 "cells": [
  {
   "cell_type": "markdown",
   "id": "546c9801",
   "metadata": {},
   "source": [
    "# Python_Basic_Program_Assignment_11"
   ]
  },
  {
   "cell_type": "code",
   "execution_count": null,
   "id": "de7090ae",
   "metadata": {},
   "outputs": [],
   "source": [
    "1. Write a Python program to find words which are greater than given length k?"
   ]
  },
  {
   "cell_type": "code",
   "execution_count": 3,
   "id": "bb2b0150",
   "metadata": {},
   "outputs": [
    {
     "name": "stdout",
     "output_type": "stream",
     "text": [
      "Enter the length3\n",
      "Enter a string:My name is Neha Anubhuti\n",
      "Words greater than k length are: ['name', 'Neha', 'Anubhuti']\n"
     ]
    }
   ],
   "source": [
    "k=int(input(\"Enter the length\"))\n",
    "s=input(\"Enter a string:\")\n",
    "result=[]\n",
    "word=s.split()\n",
    "for i in word:\n",
    "    if len(i)>k:\n",
    "        result.append(i)\n",
    "print(\"Words greater than k length are:\",result)        "
   ]
  },
  {
   "cell_type": "code",
   "execution_count": null,
   "id": "0ca6948c",
   "metadata": {},
   "outputs": [],
   "source": [
    "2. Write a Python program for removing i-th character from a string?"
   ]
  },
  {
   "cell_type": "code",
   "execution_count": 5,
   "id": "2b743970",
   "metadata": {},
   "outputs": [
    {
     "name": "stdout",
     "output_type": "stream",
     "text": [
      "Enter the ith position4\n",
      "Enter a string:erfgdsh\n",
      "The string after pop is : erfgsh\n"
     ]
    }
   ],
   "source": [
    "i=int(input(\"Enter the ith position\"))\n",
    "s=input(\"Enter a string:\")\n",
    "s=s.replace(s[i],\"\",1)\n",
    "print(\"The string after pop is :\",s)\n"
   ]
  },
  {
   "cell_type": "code",
   "execution_count": null,
   "id": "437e4431",
   "metadata": {},
   "outputs": [],
   "source": [
    "3. Write a Python program to split and join a string?"
   ]
  },
  {
   "cell_type": "code",
   "execution_count": 8,
   "id": "6b154a90",
   "metadata": {},
   "outputs": [
    {
     "name": "stdout",
     "output_type": "stream",
     "text": [
      "Enter a string:I want to become data scientist\n",
      "The string after split is:['I', 'want', 'to', 'become', 'data', 'scientist']\n",
      "The string after join is : I-want-to-become-data-scientist\n"
     ]
    }
   ],
   "source": [
    "s=input(\"Enter a string:\")\n",
    "print(f'The string after split is:{s.split()}')\n",
    "print(f'The string after join is :','-'.join(s.split()))"
   ]
  },
  {
   "cell_type": "code",
   "execution_count": null,
   "id": "7d01ce55",
   "metadata": {},
   "outputs": [],
   "source": [
    "4. Write a Python to check if a given string is binary string or not?"
   ]
  },
  {
   "cell_type": "code",
   "execution_count": 36,
   "id": "9687ad22",
   "metadata": {},
   "outputs": [
    {
     "name": "stdout",
     "output_type": "stream",
     "text": [
      "Enter a string:1010\n",
      "Binary string\n"
     ]
    }
   ],
   "source": [
    "s=input(\"Enter a string:\")\n",
    "m=set(s)\n",
    "count=0\n",
    "p={'0','1'}\n",
    "for i in m:\n",
    "    if i not in p:\n",
    "        count=1\n",
    "if count==0:\n",
    "    print(\"Binary string\")\n",
    "else:\n",
    "    print(\"Not Binary string\")\n",
    "        \n"
   ]
  },
  {
   "cell_type": "code",
   "execution_count": null,
   "id": "c9393173",
   "metadata": {},
   "outputs": [],
   "source": [
    "5. Write a Python program to find uncommon words from two Strings?"
   ]
  },
  {
   "cell_type": "code",
   "execution_count": 39,
   "id": "7e2a44ef",
   "metadata": {},
   "outputs": [
    {
     "name": "stdout",
     "output_type": "stream",
     "text": [
      "ENter the first string: the tree was on mountain top\n",
      "ENter the second string: the mountain top was gree\n",
      "The uncommon word are: ['on', 'gree', 'tree']\n"
     ]
    }
   ],
   "source": [
    "a=input(\"ENter the first string: \")\n",
    "b=input(\"ENter the second string: \")\n",
    "a=a.split()\n",
    "b=b.split()\n",
    "c=[]\n",
    "for i in a:\n",
    "    if i not in b:\n",
    "        c.append(i)\n",
    "for i in b:\n",
    "    if i not in a:\n",
    "        c.append(i)\n",
    "print(\"The uncommon word are:\",list(set(c)))        "
   ]
  },
  {
   "cell_type": "code",
   "execution_count": null,
   "id": "e65464f9",
   "metadata": {},
   "outputs": [],
   "source": [
    "6. Write a Python to find all duplicate characters in string?"
   ]
  },
  {
   "cell_type": "code",
   "execution_count": 40,
   "id": "2f83b7fd",
   "metadata": {},
   "outputs": [
    {
     "name": "stdout",
     "output_type": "stream",
     "text": [
      "Duplicate characters in a given string: \n",
      "n\n",
      "a\n",
      "e\n",
      "i\n",
      "h\n",
      "u\n"
     ]
    }
   ],
   "source": [
    "string =\"My name is Neha Anubhuti\"  \n",
    "print(string)   \n",
    "print(\"Duplicate characters in a given string: \")\n",
    " \n",
    "for i in range(0, len(string)):  \n",
    "    count = 1\n",
    "    for j in range(i+1, len(string)):  \n",
    "        if(string[i] == string[j] and string[i] != ' '):  \n",
    "            count = count + 1  \n",
    "            string = string[:j] + '0' + string[j+1:]\n",
    "   \n",
    "    if(count > 1 and string[i] != '0'):  \n",
    "        print(string[i]) "
   ]
  },
  {
   "cell_type": "markdown",
   "id": "18730f96",
   "metadata": {},
   "source": [
    "7. Write a Python Program to check if a string contains any special character?"
   ]
  },
  {
   "cell_type": "code",
   "execution_count": 43,
   "id": "7197bfbd",
   "metadata": {},
   "outputs": [
    {
     "name": "stdout",
     "output_type": "stream",
     "text": [
      "Enter a string: hello!\n",
      "String have special character\n"
     ]
    }
   ],
   "source": [
    "import re\n",
    "s=input(\"Enter a string: \")\n",
    "pattern=re.compile('[@_!$%^&*()<>?/\\|}{~:]#')\n",
    "if pattern.findall(s)==None:\n",
    "    print(\"String does\\'t have special character \")\n",
    "else:\n",
    "    print(\"String have special character\")"
   ]
  }
 ],
 "metadata": {
  "kernelspec": {
   "display_name": "Python 3 (ipykernel)",
   "language": "python",
   "name": "python3"
  },
  "language_info": {
   "codemirror_mode": {
    "name": "ipython",
    "version": 3
   },
   "file_extension": ".py",
   "mimetype": "text/x-python",
   "name": "python",
   "nbconvert_exporter": "python",
   "pygments_lexer": "ipython3",
   "version": "3.9.12"
  }
 },
 "nbformat": 4,
 "nbformat_minor": 5
}

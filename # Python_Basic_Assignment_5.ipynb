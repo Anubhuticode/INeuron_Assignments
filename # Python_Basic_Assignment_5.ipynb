{
 "cells": [
  {
   "cell_type": "markdown",
   "id": "44972ed4",
   "metadata": {},
   "source": [
    "# Python_Basic_Assignment_5"
   ]
  },
  {
   "cell_type": "code",
   "execution_count": null,
   "id": "11fc5a64",
   "metadata": {},
   "outputs": [],
   "source": [
    "1. What does an empty dictionary code look like?\n",
    "Answer:It will look like two empty curly bracket. \n",
    "    eg. dist1={}\n"
   ]
  },
  {
   "cell_type": "code",
   "execution_count": null,
   "id": "d5a4f584",
   "metadata": {},
   "outputs": [],
   "source": [
    "2. What is the value of a dictionary value with the key 'foo' and the value 42?\n",
    "Answer: dist2={'foo':42}"
   ]
  },
  {
   "cell_type": "code",
   "execution_count": 1,
   "id": "87fd43cb",
   "metadata": {},
   "outputs": [],
   "source": [
    "3. What is the most significant distinction between a dictionary and a list?\n",
    "Answer: List: they are index element like array in C\n",
    "             First index is 0 and elements ar eaccede by index.\n",
    "             Elements are within [] seperated by ,\n",
    "             Order is to be maintained.\n",
    "            \n",
    "       Dictionary: Elements are unordered pair. Elements are stored as {\"Key\":\"value\"}.\n",
    "                   Elements are acces by key value."
   ]
  },
  {
   "cell_type": "code",
   "execution_count": null,
   "id": "f603e983",
   "metadata": {},
   "outputs": [],
   "source": [
    "4. What happens if you try to access spam['foo'] if spam is {'bar': 100}?\n",
    "Answer: It will give an KeyError error."
   ]
  },
  {
   "cell_type": "code",
   "execution_count": null,
   "id": "ed7577f7",
   "metadata": {},
   "outputs": [],
   "source": [
    "5. If a dictionary is stored in spam, what is the difference between the expressions 'cat' in spam and\n",
    "'cat' in spam.keys()?\n",
    "Answer: \"cat\" in spam: it will find 'cat' in keyword.\n",
    "        \"cat\" in spam.keys() : it will also find 'cat' in keyword.\n",
    "            So, Both are same."
   ]
  },
  {
   "cell_type": "code",
   "execution_count": null,
   "id": "13a13d3b",
   "metadata": {},
   "outputs": [],
   "source": [
    "5. If a dictionary is stored in spam, what is the difference between the expressions 'cat' in spam and\n",
    "'cat' in spam.values()?\n",
    "Answer: \"cat\" in spam: it will find 'cat' in keyword.\n",
    "        \"cat\" in spam.values() : it will find 'cat' in values.\n",
    "            so, both are different."
   ]
  },
  {
   "cell_type": "code",
   "execution_count": null,
   "id": "05fadddd",
   "metadata": {},
   "outputs": [],
   "source": [
    "7. What is a shortcut for the following code?\n",
    "if 'color' not in spam:\n",
    "spam['color'] ='black'\n",
    "Answer: spam.setdefault('color', 'black')"
   ]
  },
  {
   "cell_type": "code",
   "execution_count": null,
   "id": "655d1f94",
   "metadata": {},
   "outputs": [],
   "source": [
    "8.How do you \"pretty print\" dictionary values using which module and function?\n",
    "Answer:\n",
    "     pprint.PrettyPrinter(indent=4)"
   ]
  },
  {
   "cell_type": "code",
   "execution_count": null,
   "id": "61266e34",
   "metadata": {},
   "outputs": [],
   "source": [
    " "
   ]
  },
  {
   "cell_type": "code",
   "execution_count": null,
   "id": "dbeaf1c3",
   "metadata": {},
   "outputs": [],
   "source": []
  },
  {
   "cell_type": "code",
   "execution_count": null,
   "id": "39f98cb3",
   "metadata": {},
   "outputs": [],
   "source": []
  },
  {
   "cell_type": "code",
   "execution_count": null,
   "id": "5c9bf466",
   "metadata": {},
   "outputs": [],
   "source": []
  },
  {
   "cell_type": "code",
   "execution_count": null,
   "id": "2a63364b",
   "metadata": {},
   "outputs": [],
   "source": []
  },
  {
   "cell_type": "code",
   "execution_count": null,
   "id": "54af5370",
   "metadata": {},
   "outputs": [],
   "source": []
  },
  {
   "cell_type": "code",
   "execution_count": null,
   "id": "2f35cd82",
   "metadata": {},
   "outputs": [],
   "source": []
  }
 ],
 "metadata": {
  "kernelspec": {
   "display_name": "Python 3 (ipykernel)",
   "language": "python",
   "name": "python3"
  },
  "language_info": {
   "codemirror_mode": {
    "name": "ipython",
    "version": 3
   },
   "file_extension": ".py",
   "mimetype": "text/x-python",
   "name": "python",
   "nbconvert_exporter": "python",
   "pygments_lexer": "ipython3",
   "version": "3.9.12"
  }
 },
 "nbformat": 4,
 "nbformat_minor": 5
}
